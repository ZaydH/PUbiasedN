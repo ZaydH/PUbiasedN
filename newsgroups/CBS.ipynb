{
 "cells": [
  {
   "cell_type": "markdown",
   "metadata": {},
   "source": [
    "# Data"
   ]
  },
  {
   "cell_type": "code",
   "execution_count": 731,
   "metadata": {},
   "outputs": [],
   "source": [
    "import numpy as np\n",
    "from sklearn.datasets import fetch_20newsgroups\n",
    "from sklearn.feature_extraction.text import TfidfVectorizer"
   ]
  },
  {
   "cell_type": "code",
   "execution_count": 738,
   "metadata": {},
   "outputs": [],
   "source": [
    "newsgroups_train = fetch_20newsgroups(subset='train')\n",
    "newsgroups_test = fetch_20newsgroups(subset='test')"
   ]
  },
  {
   "cell_type": "code",
   "execution_count": 740,
   "metadata": {},
   "outputs": [],
   "source": [
    "p_num = 5\n",
    "\n",
    "N_train = len(newsgroups_train.data)\n",
    "train_target = newsgroups_train.target.copy()\n",
    "train_target[train_target == 0] = 20\n",
    "train_target[train_target <= p_num] = 1\n",
    "train_target[train_target != 1] = -1"
   ]
  },
  {
   "cell_type": "code",
   "execution_count": 743,
   "metadata": {},
   "outputs": [],
   "source": [
    "N_test = len(newsgroups_test.data)\n",
    "test_target = newsgroups_test.target.copy()\n",
    "test_target[test_target  == 0] = 20\n",
    "test_target[test_target  <= p_num] = 1\n",
    "test_target[test_target != 1] = -1"
   ]
  },
  {
   "cell_type": "markdown",
   "metadata": {},
   "source": [
    "## Unigram"
   ]
  },
  {
   "cell_type": "code",
   "execution_count": 950,
   "metadata": {},
   "outputs": [],
   "source": [
    "from sklearn.svm import LinearSVC\n",
    "from sklearn.svm import SVC"
   ]
  },
  {
   "cell_type": "code",
   "execution_count": 744,
   "metadata": {},
   "outputs": [],
   "source": [
    "vectorizer = TfidfVectorizer(\n",
    "    min_df=2, max_df=0.95, stop_words='english', max_features=10000) #, norm=None) #, use_idf=False) \n",
    "vectors_train = vectorizer.fit_transform(newsgroups_train.data)\n",
    "vectors_test = vectorizer.transform(newsgroups_test.data)"
   ]
  },
  {
   "cell_type": "code",
   "execution_count": 745,
   "metadata": {
    "scrolled": true
   },
   "outputs": [
    {
     "data": {
      "text/plain": [
       "(11314, 10000)"
      ]
     },
     "execution_count": 745,
     "metadata": {},
     "output_type": "execute_result"
    }
   ],
   "source": [
    "vectors_train.shape"
   ]
  },
  {
   "cell_type": "code",
   "execution_count": 746,
   "metadata": {},
   "outputs": [
    {
     "data": {
      "text/plain": [
       "0.9462294211364843"
      ]
     },
     "execution_count": 746,
     "metadata": {},
     "output_type": "execute_result"
    }
   ],
   "source": [
    "clf = LinearSVC()\n",
    "clf.fit(vectors_train, train_target)\n",
    "clf.score(vectors_test, test_target)"
   ]
  },
  {
   "cell_type": "code",
   "execution_count": 9,
   "metadata": {},
   "outputs": [
    {
     "data": {
      "text/plain": [
       "0.137"
      ]
     },
     "execution_count": 9,
     "metadata": {},
     "output_type": "execute_result"
    }
   ],
   "source": [
    "np.mean(train_target[:2000])"
   ]
  },
  {
   "cell_type": "code",
   "execution_count": 10,
   "metadata": {},
   "outputs": [],
   "source": [
    "a = np.expand_dims(vectors_train.todense(), 1)"
   ]
  },
  {
   "cell_type": "code",
   "execution_count": 11,
   "metadata": {},
   "outputs": [
    {
     "data": {
      "text/plain": [
       "(11314, 2, 10000)"
      ]
     },
     "execution_count": 11,
     "metadata": {},
     "output_type": "execute_result"
    }
   ],
   "source": [
    "np.concatenate([a, a], axis=1).shape"
   ]
  },
  {
   "cell_type": "code",
   "execution_count": null,
   "metadata": {},
   "outputs": [],
   "source": []
  },
  {
   "cell_type": "markdown",
   "metadata": {},
   "source": [
    "## Bigram"
   ]
  },
  {
   "cell_type": "code",
   "execution_count": 9,
   "metadata": {},
   "outputs": [],
   "source": [
    "from sklearn.svm import LinearSVC"
   ]
  },
  {
   "cell_type": "code",
   "execution_count": 24,
   "metadata": {},
   "outputs": [],
   "source": [
    "vectorizer_bi = TfidfVectorizer(\n",
    "    min_df=2,\n",
    "    max_df=0.95,\n",
    "    ngram_range=(2, 2),\n",
    "    stop_words='english',\n",
    "    max_features=10000)\n",
    "vectors_train_bi = vectorizer_bi.fit_transform(newsgroups_train.data)\n",
    "vectors_test_bi = vectorizer_bi.transform(newsgroups_test.data)"
   ]
  },
  {
   "cell_type": "code",
   "execution_count": 25,
   "metadata": {},
   "outputs": [
    {
     "data": {
      "text/plain": [
       "(11314, 10000)"
      ]
     },
     "execution_count": 25,
     "metadata": {},
     "output_type": "execute_result"
    }
   ],
   "source": [
    "vectors_train_bi.shape"
   ]
  },
  {
   "cell_type": "code",
   "execution_count": 11,
   "metadata": {},
   "outputs": [
    {
     "data": {
      "text/plain": [
       "0.8591343600637281"
      ]
     },
     "execution_count": 11,
     "metadata": {},
     "output_type": "execute_result"
    }
   ],
   "source": [
    "clf = LinearSVC()\n",
    "clf.fit(vectors_train_bi, train_target)\n",
    "clf.score(vectors_test_bi, test_target)"
   ]
  },
  {
   "cell_type": "markdown",
   "metadata": {},
   "source": [
    "## Trigram"
   ]
  },
  {
   "cell_type": "code",
   "execution_count": 26,
   "metadata": {},
   "outputs": [],
   "source": [
    "vectorizer_tri = TfidfVectorizer(\n",
    "    min_df=2,\n",
    "    max_df=0.95,\n",
    "    ngram_range=(3, 3),\n",
    "    stop_words='english',\n",
    "    max_features=10000)\n",
    "vectors_train_tri = vectorizer_tri.fit_transform(newsgroups_train.data)\n",
    "vectors_test_tri = vectorizer_tri.transform(newsgroups_test.data)"
   ]
  },
  {
   "cell_type": "code",
   "execution_count": 13,
   "metadata": {},
   "outputs": [
    {
     "data": {
      "text/plain": [
       "(11314, 10000)"
      ]
     },
     "execution_count": 13,
     "metadata": {},
     "output_type": "execute_result"
    }
   ],
   "source": [
    "vectors_train_tri.shape"
   ]
  },
  {
   "cell_type": "code",
   "execution_count": 14,
   "metadata": {},
   "outputs": [
    {
     "data": {
      "text/plain": [
       "0.8170472650026553"
      ]
     },
     "execution_count": 14,
     "metadata": {},
     "output_type": "execute_result"
    }
   ],
   "source": [
    "clf = LinearSVC()\n",
    "clf.fit(vectors_train_tri, train_target)\n",
    "clf.score(vectors_test_tri, test_target)"
   ]
  },
  {
   "cell_type": "markdown",
   "metadata": {},
   "source": [
    "## Elmo"
   ]
  },
  {
   "cell_type": "code",
   "execution_count": 16,
   "metadata": {},
   "outputs": [
    {
     "name": "stdout",
     "output_type": "stream",
     "text": [
      "/media/yu-guan/DATA/works/ens/M1/Intern/Codes/pu_biased_n\n"
     ]
    }
   ],
   "source": [
    "cd .."
   ]
  },
  {
   "cell_type": "code",
   "execution_count": 17,
   "metadata": {},
   "outputs": [],
   "source": [
    "import h5py\n",
    "from sklearn import preprocessing"
   ]
  },
  {
   "cell_type": "code",
   "execution_count": 18,
   "metadata": {},
   "outputs": [],
   "source": [
    "elmo_train_f = h5py.File(\n",
    "    'data/20newsgroups/20newsgroups_elmo_mmm_train.hdf5', 'r')\n",
    "elmo_test_f = h5py.File(\n",
    "    'data/20newsgroups/20newsgroups_elmo_mmm_test.hdf5', 'r')"
   ]
  },
  {
   "cell_type": "code",
   "execution_count": 19,
   "metadata": {},
   "outputs": [],
   "source": [
    "train_data = elmo_train_f['data'][:]\n",
    "test_data = elmo_test_f['data'][:]"
   ]
  },
  {
   "cell_type": "code",
   "execution_count": 20,
   "metadata": {},
   "outputs": [],
   "source": [
    "train_data_p = preprocessing.scale(train_data)\n",
    "test_data_p = preprocessing.scale(test_data)"
   ]
  },
  {
   "cell_type": "markdown",
   "metadata": {
    "heading_collapsed": true
   },
   "source": [
    "## Glove"
   ]
  },
  {
   "cell_type": "code",
   "execution_count": 71,
   "metadata": {
    "hidden": true
   },
   "outputs": [],
   "source": [
    "elmo_train_gf = h5py.File(\n",
    "    'data/20newsgroups/20newsgroups_glove_mmm_train.hdf5', 'r')\n",
    "elmo_test_gf = h5py.File(\n",
    "    'data/20newsgroups/20newsgroups_glove_mmm_test.hdf5', 'r')"
   ]
  },
  {
   "cell_type": "code",
   "execution_count": 74,
   "metadata": {
    "hidden": true
   },
   "outputs": [],
   "source": [
    "train_data_g = elmo_train_gf['data'][:]\n",
    "test_data_g = elmo_test_gf['data'][:]"
   ]
  },
  {
   "cell_type": "code",
   "execution_count": 77,
   "metadata": {
    "hidden": true
   },
   "outputs": [],
   "source": [
    "train_data_gp = preprocessing.scale(train_data_g)\n",
    "test_data_gp = preprocessing.scale(test_data_g)"
   ]
  },
  {
   "cell_type": "markdown",
   "metadata": {},
   "source": [
    "# Pytorch"
   ]
  },
  {
   "cell_type": "code",
   "execution_count": 12,
   "metadata": {},
   "outputs": [],
   "source": [
    "import torch\n",
    "import torch.nn as nn\n",
    "import torch.nn.functional as F\n",
    "import torch.optim as optim\n",
    "import torch.utils.data\n",
    "import sklearn.metrics\n",
    "\n",
    "import sys"
   ]
  },
  {
   "cell_type": "code",
   "execution_count": 13,
   "metadata": {},
   "outputs": [],
   "source": [
    "dtype = torch.cuda.FloatTensor\n",
    "\n",
    "\n",
    "class Classifier(object):\n",
    "\n",
    "    def __init__(self, model, lr=5e-3, weight_decay=1e-2):\n",
    "        self.model = model\n",
    "        self.lr = lr\n",
    "        self.weight_decay = weight_decay\n",
    "        self.test_accuracies = []\n",
    "        self.init_optimizer()\n",
    "\n",
    "    def init_optimizer(self):\n",
    "        self.optimizer = optim.Adam(\n",
    "            self.model.parameters(),\n",
    "            lr=self.lr, weight_decay=self.weight_decay)\n",
    "\n",
    "    def train(self, training_set, test_set,\n",
    "              batch_size, num_epochs,\n",
    "              test_interval=1, print_interval=1):\n",
    "\n",
    "        self.init_optimizer()\n",
    "        self.test(test_set, True)\n",
    "\n",
    "        train_loader = torch.utils.data.DataLoader(\n",
    "            training_set, batch_size=batch_size,\n",
    "            shuffle=True, num_workers=1)\n",
    "\n",
    "        for epoch in range(num_epochs):\n",
    "\n",
    "            total_loss = self.train_step(train_loader)\n",
    "\n",
    "            if (epoch+1) % test_interval == 0 or epoch+1 == num_epochs:\n",
    "\n",
    "                to_print = (epoch+1) % print_interval == 0\n",
    "                if to_print:\n",
    "                    sys.stdout.write('Epoch: {}  '.format(epoch))\n",
    "                    print('Train Loss: {:.6f}'.format(total_loss))\n",
    "                self.test(test_set, to_print)\n",
    "\n",
    "    def train_step(self, train_loader, convex=True):\n",
    "        self.model.train()\n",
    "        total_loss = 0\n",
    "        for x, target in train_loader:\n",
    "            self.optimizer.zero_grad()\n",
    "            loss = self.compute_loss(x, target, convex)\n",
    "            total_loss += loss.item()\n",
    "            loss = loss\n",
    "            loss.backward()\n",
    "            self.optimizer.step()\n",
    "        return total_loss\n",
    "\n",
    "    def basic_loss(self, fx, convex=True):\n",
    "        if convex:\n",
    "            negative_logistic = nn.LogSigmoid()\n",
    "            return -negative_logistic(fx)\n",
    "        else:\n",
    "            sigmoid = nn.Sigmoid()\n",
    "            return sigmoid(-fx)\n",
    "\n",
    "    def compute_loss(self, x, target, convex=True):\n",
    "        fx = self.model(x.type(dtype))\n",
    "        target = target.type(dtype)\n",
    "        loss = torch.sum(self.basic_loss(fx * target, convex))\n",
    "        return loss.cpu()\n",
    "\n",
    "    def test(self, test_set, to_print=True):\n",
    "        self.model.eval()\n",
    "        x = test_set.tensors[0].type(dtype)\n",
    "        target = test_set.tensors[1].numpy()\n",
    "        target[target == -1] = 0\n",
    "        output = self.model(x)\n",
    "        pred = torch.sign(output)\n",
    "        pred = pred.detach().cpu().numpy().reshape(-1)\n",
    "        pred[pred == -1] = 0\n",
    "        accuracy = sklearn.metrics.accuracy_score(target, pred)\n",
    "        f1_score = sklearn.metrics.f1_score(target, pred)\n",
    "        self.test_accuracies.append(accuracy)\n",
    "        if to_print:\n",
    "            print('Test set: Accuracy: {:.2f}%'\n",
    "                  .format(accuracy*100), flush=True)\n",
    "            print('Test set: F1 Score: {:.2f}%'\n",
    "                  .format(f1_score*100), flush=True)"
   ]
  },
  {
   "cell_type": "markdown",
   "metadata": {
    "heading_collapsed": true
   },
   "source": [
    "## unigram"
   ]
  },
  {
   "cell_type": "code",
   "execution_count": 11,
   "metadata": {
    "hidden": true
   },
   "outputs": [
    {
     "data": {
      "text/plain": [
       "(11314, 130107)"
      ]
     },
     "execution_count": 11,
     "metadata": {},
     "output_type": "execute_result"
    }
   ],
   "source": [
    "vectors_train.shape"
   ]
  },
  {
   "cell_type": "code",
   "execution_count": 45,
   "metadata": {
    "hidden": true
   },
   "outputs": [],
   "source": [
    "class Linear(nn.Module):\n",
    "\n",
    "    def __init__(self, num_classes=1):\n",
    "        super(Net, self).__init__()\n",
    "        self.fc1 = nn.Linear(130107, 1)\n",
    "\n",
    "    def forward(self, x):\n",
    "        x = self.fc1(x)\n",
    "        return x"
   ]
  },
  {
   "cell_type": "code",
   "execution_count": 22,
   "metadata": {
    "hidden": true
   },
   "outputs": [],
   "source": [
    "training_set = torch.utils.data.TensorDataset(\n",
    "    torch.tensor(vectors_train[:2000].toarray()), torch.tensor(train_target[:2000]).unsqueeze(1))\n",
    "test_set = torch.utils.data.TensorDataset(\n",
    "    torch.tensor(vectors_test[:2000].toarray()), torch.tensor(test_target[:2000]).unsqueeze(1))"
   ]
  },
  {
   "cell_type": "code",
   "execution_count": 29,
   "metadata": {
    "hidden": true
   },
   "outputs": [],
   "source": [
    "model = Linear().cuda()\n",
    "cls = Classifier(model, lr=1e-2, weight_decay=1e-4)"
   ]
  },
  {
   "cell_type": "code",
   "execution_count": 30,
   "metadata": {
    "hidden": true
   },
   "outputs": [
    {
     "name": "stdout",
     "output_type": "stream",
     "text": [
      "Test set: Accuracy: 974.0/2000 (48.70%)\n",
      "Epoch: 0  Train Loss: 1305.074692\n",
      "Test set: Accuracy: 1615.0/2000 (80.75%)\n",
      "Epoch: 1  Train Loss: 1051.899849\n",
      "Test set: Accuracy: 1660.0/2000 (83.00%)\n",
      "Epoch: 2  Train Loss: 872.567608\n",
      "Test set: Accuracy: 1683.0/2000 (84.15%)\n",
      "Epoch: 3  Train Loss: 738.338737\n",
      "Test set: Accuracy: 1717.0/2000 (85.85%)\n",
      "Epoch: 4  Train Loss: 634.672615\n",
      "Test set: Accuracy: 1718.0/2000 (85.90%)\n",
      "Epoch: 5  Train Loss: 553.611063\n",
      "Test set: Accuracy: 1733.0/2000 (86.65%)\n",
      "Epoch: 6  Train Loss: 487.804068\n",
      "Test set: Accuracy: 1734.0/2000 (86.70%)\n",
      "Epoch: 7  Train Loss: 433.927530\n",
      "Test set: Accuracy: 1746.0/2000 (87.30%)\n",
      "Epoch: 8  Train Loss: 389.136547\n",
      "Test set: Accuracy: 1747.0/2000 (87.35%)\n",
      "Epoch: 9  Train Loss: 350.918127\n",
      "Test set: Accuracy: 1759.0/2000 (87.95%)\n",
      "Epoch: 10  Train Loss: 318.576545\n",
      "Test set: Accuracy: 1764.0/2000 (88.20%)\n",
      "Epoch: 11  Train Loss: 290.558525\n",
      "Test set: Accuracy: 1760.0/2000 (88.00%)\n",
      "Epoch: 12  Train Loss: 266.098560\n",
      "Test set: Accuracy: 1770.0/2000 (88.50%)\n",
      "Epoch: 13  Train Loss: 244.877238\n",
      "Test set: Accuracy: 1771.0/2000 (88.55%)\n",
      "Epoch: 14  Train Loss: 226.134709\n",
      "Test set: Accuracy: 1774.0/2000 (88.70%)\n",
      "Epoch: 15  Train Loss: 209.584846\n",
      "Test set: Accuracy: 1773.0/2000 (88.65%)\n",
      "Epoch: 16  Train Loss: 194.906290\n",
      "Test set: Accuracy: 1774.0/2000 (88.70%)\n",
      "Epoch: 17  Train Loss: 181.745926\n",
      "Test set: Accuracy: 1776.0/2000 (88.80%)\n",
      "Epoch: 18  Train Loss: 169.852706\n",
      "Test set: Accuracy: 1775.0/2000 (88.75%)\n",
      "Epoch: 19  Train Loss: 159.384246\n",
      "Test set: Accuracy: 1778.0/2000 (88.90%)\n",
      "Epoch: 20  Train Loss: 149.736558\n",
      "Test set: Accuracy: 1778.0/2000 (88.90%)\n",
      "Epoch: 21  Train Loss: 141.015396\n",
      "Test set: Accuracy: 1780.0/2000 (89.00%)\n",
      "Epoch: 22  Train Loss: 133.084722\n",
      "Test set: Accuracy: 1781.0/2000 (89.05%)\n",
      "Epoch: 23  Train Loss: 125.855006\n",
      "Test set: Accuracy: 1781.0/2000 (89.05%)\n",
      "Epoch: 24  Train Loss: 119.283713\n",
      "Test set: Accuracy: 1780.0/2000 (89.00%)\n",
      "Epoch: 25  Train Loss: 113.214732\n",
      "Test set: Accuracy: 1780.0/2000 (89.00%)\n",
      "Epoch: 26  Train Loss: 107.657376\n",
      "Test set: Accuracy: 1783.0/2000 (89.15%)\n",
      "Epoch: 27  Train Loss: 102.447778\n",
      "Test set: Accuracy: 1784.0/2000 (89.20%)\n",
      "Epoch: 28  Train Loss: 97.717558\n",
      "Test set: Accuracy: 1785.0/2000 (89.25%)\n",
      "Epoch: 29  Train Loss: 93.315255\n",
      "Test set: Accuracy: 1782.0/2000 (89.10%)\n"
     ]
    }
   ],
   "source": [
    "# 1-gram\n",
    "cls.train(training_set, test_set, batch_size=120, num_epochs=30)"
   ]
  },
  {
   "cell_type": "markdown",
   "metadata": {
    "heading_collapsed": true
   },
   "source": [
    "## Elmo"
   ]
  },
  {
   "cell_type": "code",
   "execution_count": 67,
   "metadata": {
    "hidden": true
   },
   "outputs": [],
   "source": [
    "class Net(nn.Module):\n",
    "\n",
    "    def __init__(self, num_classes=1):\n",
    "        super(Net, self).__init__()\n",
    "        self.fc1 = nn.Linear(9216, 300)\n",
    "        self.fc2 = nn.Linear(300, 300)\n",
    "        self.fc3 = nn.Linear(300, num_classes)\n",
    "\n",
    "    def forward(self, x):\n",
    "        x = F.relu(self.fc1(x))\n",
    "        x = F.relu(self.fc2(x))\n",
    "        x = self.fc3(x)\n",
    "        return x"
   ]
  },
  {
   "cell_type": "code",
   "execution_count": 64,
   "metadata": {
    "hidden": true
   },
   "outputs": [],
   "source": [
    "training_set = torch.utils.data.TensorDataset(\n",
    "    torch.tensor(train_data_p[:2000]), torch.tensor(train_target[:2000]).unsqueeze(1))\n",
    "test_set = torch.utils.data.TensorDataset(\n",
    "    torch.tensor(test_data_p[:2000]), torch.tensor(test_target[:2000]).unsqueeze(1))"
   ]
  },
  {
   "cell_type": "code",
   "execution_count": 68,
   "metadata": {
    "hidden": true
   },
   "outputs": [],
   "source": [
    "model = Net().cuda()\n",
    "cls = Classifier(model, lr=5e-3, weight_decay=1e-2)"
   ]
  },
  {
   "cell_type": "code",
   "execution_count": 70,
   "metadata": {
    "hidden": true
   },
   "outputs": [
    {
     "name": "stdout",
     "output_type": "stream",
     "text": [
      "Test set: Accuracy: 1496.0/2000 (74.80%)\n",
      "Epoch: 0  Train Loss: 1009.933940\n",
      "Test set: Accuracy: 1724.0/2000 (86.20%)\n",
      "Epoch: 1  Train Loss: 207.716928\n",
      "Test set: Accuracy: 1754.0/2000 (87.70%)\n",
      "Epoch: 2  Train Loss: 88.482116\n",
      "Test set: Accuracy: 1742.0/2000 (87.10%)\n",
      "Epoch: 3  Train Loss: 42.204642\n",
      "Test set: Accuracy: 1763.0/2000 (88.15%)\n",
      "Epoch: 4  Train Loss: 15.729638\n",
      "Test set: Accuracy: 1766.0/2000 (88.30%)\n",
      "Epoch: 5  Train Loss: 74.469606\n",
      "Test set: Accuracy: 1736.0/2000 (86.80%)\n",
      "Epoch: 6  Train Loss: 138.549006\n",
      "Test set: Accuracy: 1747.0/2000 (87.35%)\n",
      "Epoch: 7  Train Loss: 248.145907\n",
      "Test set: Accuracy: 1715.0/2000 (85.75%)\n",
      "Epoch: 8  Train Loss: 50.093974\n",
      "Test set: Accuracy: 1764.0/2000 (88.20%)\n",
      "Epoch: 9  Train Loss: 48.535688\n",
      "Test set: Accuracy: 1777.0/2000 (88.85%)\n",
      "Epoch: 10  Train Loss: 32.726519\n",
      "Test set: Accuracy: 1744.0/2000 (87.20%)\n",
      "Epoch: 11  Train Loss: 27.642034\n",
      "Test set: Accuracy: 1772.0/2000 (88.60%)\n",
      "Epoch: 12  Train Loss: 4.739286\n",
      "Test set: Accuracy: 1767.0/2000 (88.35%)\n",
      "Epoch: 13  Train Loss: 2.432417\n",
      "Test set: Accuracy: 1786.0/2000 (89.30%)\n",
      "Epoch: 14  Train Loss: 0.574590\n",
      "Test set: Accuracy: 1786.0/2000 (89.30%)\n",
      "Epoch: 15  Train Loss: 0.314359\n",
      "Test set: Accuracy: 1784.0/2000 (89.20%)\n",
      "Epoch: 16  Train Loss: 0.256655\n",
      "Test set: Accuracy: 1781.0/2000 (89.05%)\n",
      "Epoch: 17  Train Loss: 0.254577\n",
      "Test set: Accuracy: 1786.0/2000 (89.30%)\n",
      "Epoch: 18  Train Loss: 0.274538\n",
      "Test set: Accuracy: 1783.0/2000 (89.15%)\n",
      "Epoch: 19  Train Loss: 0.272133\n",
      "Test set: Accuracy: 1779.0/2000 (88.95%)\n",
      "Epoch: 20  Train Loss: 0.284515\n",
      "Test set: Accuracy: 1782.0/2000 (89.10%)\n",
      "Epoch: 21  Train Loss: 0.265363\n",
      "Test set: Accuracy: 1779.0/2000 (88.95%)\n",
      "Epoch: 22  Train Loss: 0.050003\n",
      "Test set: Accuracy: 1778.0/2000 (88.90%)\n",
      "Epoch: 23  Train Loss: 0.040462\n",
      "Test set: Accuracy: 1783.0/2000 (89.15%)\n",
      "Epoch: 24  Train Loss: 0.048988\n",
      "Test set: Accuracy: 1773.0/2000 (88.65%)\n",
      "Epoch: 25  Train Loss: 0.046546\n",
      "Test set: Accuracy: 1776.0/2000 (88.80%)\n",
      "Epoch: 26  Train Loss: 0.048366\n",
      "Test set: Accuracy: 1783.0/2000 (89.15%)\n",
      "Epoch: 27  Train Loss: 0.046235\n",
      "Test set: Accuracy: 1778.0/2000 (88.90%)\n",
      "Epoch: 28  Train Loss: 0.045923\n",
      "Test set: Accuracy: 1779.0/2000 (88.95%)\n",
      "Epoch: 29  Train Loss: 0.048319\n",
      "Test set: Accuracy: 1774.0/2000 (88.70%)\n"
     ]
    }
   ],
   "source": [
    "# elmo\n",
    "cls.train(training_set, test_set, batch_size=120, num_epochs=30)"
   ]
  },
  {
   "cell_type": "markdown",
   "metadata": {
    "heading_collapsed": true
   },
   "source": [
    "## Glove"
   ]
  },
  {
   "cell_type": "code",
   "execution_count": 85,
   "metadata": {
    "hidden": true
   },
   "outputs": [],
   "source": [
    "class Net(nn.Module):\n",
    "\n",
    "    def __init__(self, num_classes=1):\n",
    "        super(Net, self).__init__()\n",
    "        self.fc1 = nn.Linear(900, 300)\n",
    "        self.fc2 = nn.Linear(300, 300)\n",
    "        self.fc3 = nn.Linear(300, num_classes)\n",
    "\n",
    "    def forward(self, x):\n",
    "        x = F.relu(self.fc1(x))\n",
    "        x = F.relu(self.fc2(x))\n",
    "        x = self.fc3(x)\n",
    "        return x"
   ]
  },
  {
   "cell_type": "code",
   "execution_count": 86,
   "metadata": {
    "hidden": true
   },
   "outputs": [],
   "source": [
    "training_set = torch.utils.data.TensorDataset(\n",
    "    torch.tensor(train_data_gp[:2000]), torch.tensor(train_target[:2000]).unsqueeze(1))\n",
    "test_set = torch.utils.data.TensorDataset(\n",
    "    torch.tensor(test_data_gp[:2000]), torch.tensor(test_target[:2000]).unsqueeze(1))"
   ]
  },
  {
   "cell_type": "code",
   "execution_count": 89,
   "metadata": {
    "hidden": true
   },
   "outputs": [],
   "source": [
    "model = Net().cuda()\n",
    "cls = Classifier(model, lr=1e-3, weight_decay=1e-2)"
   ]
  },
  {
   "cell_type": "code",
   "execution_count": 90,
   "metadata": {
    "hidden": true,
    "scrolled": true
   },
   "outputs": [
    {
     "name": "stdout",
     "output_type": "stream",
     "text": [
      "Test set: Accuracy: 957.0/2000 (47.85%)\n",
      "Epoch: 0  Train Loss: 1029.039371\n",
      "Test set: Accuracy: 1645.0/2000 (82.25%)\n",
      "Epoch: 1  Train Loss: 581.739660\n",
      "Test set: Accuracy: 1662.0/2000 (83.10%)\n",
      "Epoch: 2  Train Loss: 373.271939\n",
      "Test set: Accuracy: 1653.0/2000 (82.65%)\n",
      "Epoch: 3  Train Loss: 212.011153\n",
      "Test set: Accuracy: 1641.0/2000 (82.05%)\n",
      "Epoch: 4  Train Loss: 172.560154\n",
      "Test set: Accuracy: 1645.0/2000 (82.25%)\n",
      "Epoch: 5  Train Loss: 129.949013\n",
      "Test set: Accuracy: 1672.0/2000 (83.60%)\n",
      "Epoch: 6  Train Loss: 58.449028\n",
      "Test set: Accuracy: 1660.0/2000 (83.00%)\n",
      "Epoch: 7  Train Loss: 35.118408\n",
      "Test set: Accuracy: 1667.0/2000 (83.35%)\n",
      "Epoch: 8  Train Loss: 19.493456\n",
      "Test set: Accuracy: 1675.0/2000 (83.75%)\n",
      "Epoch: 9  Train Loss: 24.963661\n",
      "Test set: Accuracy: 1678.0/2000 (83.90%)\n",
      "Epoch: 10  Train Loss: 18.041544\n",
      "Test set: Accuracy: 1672.0/2000 (83.60%)\n",
      "Epoch: 11  Train Loss: 11.603492\n",
      "Test set: Accuracy: 1676.0/2000 (83.80%)\n",
      "Epoch: 12  Train Loss: 9.577533\n",
      "Test set: Accuracy: 1683.0/2000 (84.15%)\n",
      "Epoch: 13  Train Loss: 2.182219\n",
      "Test set: Accuracy: 1679.0/2000 (83.95%)\n",
      "Epoch: 14  Train Loss: 1.392427\n",
      "Test set: Accuracy: 1678.0/2000 (83.90%)\n",
      "Epoch: 15  Train Loss: 1.070610\n",
      "Test set: Accuracy: 1679.0/2000 (83.95%)\n",
      "Epoch: 16  Train Loss: 0.903783\n",
      "Test set: Accuracy: 1679.0/2000 (83.95%)\n",
      "Epoch: 17  Train Loss: 0.795527\n",
      "Test set: Accuracy: 1677.0/2000 (83.85%)\n",
      "Epoch: 18  Train Loss: 0.712579\n",
      "Test set: Accuracy: 1678.0/2000 (83.90%)\n",
      "Epoch: 19  Train Loss: 0.649037\n",
      "Test set: Accuracy: 1680.0/2000 (84.00%)\n",
      "Epoch: 20  Train Loss: 0.595995\n",
      "Test set: Accuracy: 1679.0/2000 (83.95%)\n",
      "Epoch: 21  Train Loss: 0.553264\n",
      "Test set: Accuracy: 1678.0/2000 (83.90%)\n",
      "Epoch: 22  Train Loss: 0.518178\n",
      "Test set: Accuracy: 1677.0/2000 (83.85%)\n",
      "Epoch: 23  Train Loss: 0.487239\n",
      "Test set: Accuracy: 1678.0/2000 (83.90%)\n",
      "Epoch: 24  Train Loss: 0.461105\n",
      "Test set: Accuracy: 1678.0/2000 (83.90%)\n",
      "Epoch: 25  Train Loss: 0.438467\n",
      "Test set: Accuracy: 1678.0/2000 (83.90%)\n",
      "Epoch: 26  Train Loss: 0.418648\n",
      "Test set: Accuracy: 1678.0/2000 (83.90%)\n",
      "Epoch: 27  Train Loss: 0.401557\n",
      "Test set: Accuracy: 1678.0/2000 (83.90%)\n",
      "Epoch: 28  Train Loss: 0.386651\n",
      "Test set: Accuracy: 1679.0/2000 (83.95%)\n",
      "Epoch: 29  Train Loss: 0.373527\n",
      "Test set: Accuracy: 1679.0/2000 (83.95%)\n"
     ]
    }
   ],
   "source": [
    "# glove\n",
    "cls.train(training_set, test_set, batch_size=120, num_epochs=30)"
   ]
  },
  {
   "cell_type": "markdown",
   "metadata": {},
   "source": [
    "# bN"
   ]
  },
  {
   "cell_type": "code",
   "execution_count": 571,
   "metadata": {},
   "outputs": [],
   "source": [
    "train_labels = newsgroups_train.target\n",
    "test_labels = newsgroups_test.target"
   ]
  },
  {
   "cell_type": "code",
   "execution_count": 780,
   "metadata": {},
   "outputs": [],
   "source": [
    "num_classes = 20\n",
    "\n",
    "# positive_classes = [i for i in range(11)]\n",
    "positive_classes = [1, 2, 3, 4, 5]\n",
    "negative_classes = None\n",
    "# neg_ps = [0] * 11 + [0.25] * 4 + [0] * 5\n",
    "# neg_ps = [0] * 11 + [0.025] * 4 + [0.5] + [0.112, 0.116, 0.096, 0.076]\n",
    "neg_ps = [0] * 16 + [0.28, 0.29, 0.24, 0.19]"
   ]
  },
  {
   "cell_type": "code",
   "execution_count": 573,
   "metadata": {},
   "outputs": [],
   "source": [
    "priors = []\n",
    "for i in range(num_classes):\n",
    "    priors.append(\n",
    "        (np.sum(train_labels == i).item() + np.sum(test_labels == i).item())\n",
    "        / (len(train_labels) + len(test_labels)))"
   ]
  },
  {
   "cell_type": "code",
   "execution_count": 574,
   "metadata": {},
   "outputs": [],
   "source": [
    "train_labels = torch.tensor(train_labels)\n",
    "test_labels = torch.tensor(test_labels)"
   ]
  },
  {
   "cell_type": "code",
   "execution_count": 781,
   "metadata": {},
   "outputs": [],
   "source": [
    "def pick_u_data(labels, n):\n",
    "    if negative_classes is None:\n",
    "        selected_u = np.random.choice(len(labels), n, replace=False)\n",
    "    else:\n",
    "        u_idxs = np.zeros_like(labels)\n",
    "        for i in range(num_classes):\n",
    "            if i in positive_classes or i in negative_classes:\n",
    "                u_idxs[(labels == i).numpy().astype(bool)] = 1\n",
    "        u_idxs = np.argwhere(u_idxs == 1).reshape(-1)\n",
    "        selected_u = np.random.choice(u_idxs, n, replace=False)\n",
    "    return selected_u"
   ]
  },
  {
   "cell_type": "code",
   "execution_count": 576,
   "metadata": {},
   "outputs": [],
   "source": [
    "def pick_p_data(labels, n):\n",
    "    p_idxs = np.zeros_like(labels)\n",
    "    for i in range(num_classes):\n",
    "        if i in positive_classes:\n",
    "            p_idxs[(labels == i).numpy().astype(bool)] = 1\n",
    "    p_idxs = np.argwhere(p_idxs == 1).reshape(-1)\n",
    "    selected_p = np.random.choice(p_idxs, n, replace=False)\n",
    "    return selected_p"
   ]
  },
  {
   "cell_type": "code",
   "execution_count": 577,
   "metadata": {},
   "outputs": [],
   "source": [
    "def pick_n_data(labels, n):\n",
    "    n_idxs = np.zeros_like(labels)\n",
    "    for i in range(num_classes):\n",
    "        if negative_classes is None:\n",
    "            if i not in positive_classes:\n",
    "                n_idxs[(labels == i).numpy().astype(bool)] = 1\n",
    "        else:\n",
    "            if i in negative_classes:\n",
    "                n_idxs[(labels == i).numpy().astype(bool)] = 1\n",
    "    n_idxs = np.argwhere(n_idxs == 1).reshape(-1)\n",
    "    selected_n = np.random.choice(n_idxs, n, replace=False)\n",
    "    return selected_n"
   ]
  },
  {
   "cell_type": "code",
   "execution_count": 578,
   "metadata": {},
   "outputs": [],
   "source": [
    "def pick_sn_data(labels, n):\n",
    "    neg_nums = np.random.multinomial(n, neg_ps)\n",
    "    print('numbers in each subclass', neg_nums)\n",
    "    selected_sn = []\n",
    "    for i in range(num_classes):\n",
    "        if neg_nums[i] != 0:\n",
    "            idxs = np.argwhere(labels == i).reshape(-1)\n",
    "            selected = np.random.choice(idxs, neg_nums[i], replace=False)\n",
    "            selected_sn.extend(selected)\n",
    "    selected_sn = np.array(selected_sn)\n",
    "    return selected_sn"
   ]
  },
  {
   "cell_type": "code",
   "execution_count": 195,
   "metadata": {},
   "outputs": [],
   "source": [
    "u_idxs_v = pick_u_data(train_labels, 1200)\n",
    "p_idxs_v = pick_p_data(train_labels, 100)"
   ]
  },
  {
   "cell_type": "code",
   "execution_count": 580,
   "metadata": {},
   "outputs": [
    {
     "data": {
      "text/plain": [
       "[0.04239626445930171,\n",
       " 0.05162899288973787,\n",
       " 0.052265732781492096,\n",
       " 0.05210654780855354,\n",
       " 0.051098376313276024,\n",
       " 0.05242491775443065,\n",
       " 0.05173511620503025,\n",
       " 0.05253104106972302,\n",
       " 0.052849411015600124,\n",
       " 0.052743287700307756,\n",
       " 0.05300859598853868,\n",
       " 0.0525841027273692,\n",
       " 0.05221267112384591,\n",
       " 0.05253104106972302,\n",
       " 0.052371856096784464,\n",
       " 0.05290247267324631,\n",
       " 0.04828610845802823,\n",
       " 0.04987795818741377,\n",
       " 0.04112278467579327,\n",
       " 0.0333227210018041]"
      ]
     },
     "execution_count": 580,
     "metadata": {},
     "output_type": "execute_result"
    }
   ],
   "source": [
    "priors"
   ]
  },
  {
   "cell_type": "code",
   "execution_count": 874,
   "metadata": {},
   "outputs": [
    {
     "name": "stdout",
     "output_type": "stream",
     "text": [
      "numbers in each subclass [  0   0   0   0   0   0   0   0   0   0   0   0   0   0   0   0 140 152\n",
      " 107 101]\n"
     ]
    }
   ],
   "source": [
    "n_p = 500\n",
    "n_n = 500\n",
    "u_idxs = pick_u_data(train_labels, 6000)\n",
    "p_idxs = pick_p_data(train_labels, n_p)\n",
    "n_idxs = pick_n_data(train_labels, n_n)\n",
    "sn_idxs = pick_sn_data(train_labels, n_n)"
   ]
  },
  {
   "cell_type": "code",
   "execution_count": 875,
   "metadata": {},
   "outputs": [],
   "source": [
    "tr1_u = vectors_train[u_idxs]\n",
    "tr1_p = vectors_train[p_idxs]\n",
    "tr1_n = vectors_train[n_idxs]\n",
    "tr1_sn = vectors_train[sn_idxs]\n",
    "\n",
    "tr2_p = vectors_train_bi[p_idxs]\n",
    "tr2_n = vectors_train_bi[n_idxs]\n",
    "tr2_sn = vectors_train_bi[sn_idxs]\n",
    "\n",
    "tr3_p = vectors_train_tri[p_idxs]\n",
    "tr3_n = vectors_train_tri[n_idxs]\n",
    "tr3_sn = vectors_train_tri[sn_idxs]"
   ]
  },
  {
   "cell_type": "code",
   "execution_count": 878,
   "metadata": {},
   "outputs": [],
   "source": [
    "tr_l = np.concatenate([np.ones(tr1_p.shape[0]), -np.ones(tr1_sn.shape[0])])"
   ]
  },
  {
   "cell_type": "code",
   "execution_count": 79,
   "metadata": {},
   "outputs": [],
   "source": [
    "tr1_uv = vectors_train[u_idxs_v]\n",
    "tr1_pv = vectors_train[p_idxs_v]"
   ]
  },
  {
   "cell_type": "code",
   "execution_count": 270,
   "metadata": {},
   "outputs": [],
   "source": [
    "tre_p = train_data_p[p_idxs]\n",
    "tre_n = train_data_p[n_idxs]\n",
    "tre_sn = train_data_p[sn_idxs]"
   ]
  },
  {
   "cell_type": "code",
   "execution_count": 144,
   "metadata": {},
   "outputs": [
    {
     "data": {
      "text/plain": [
       "(1000, 56123)"
      ]
     },
     "execution_count": 144,
     "metadata": {},
     "output_type": "execute_result"
    }
   ],
   "source": [
    "tr1_p.shape"
   ]
  },
  {
   "cell_type": "code",
   "execution_count": 145,
   "metadata": {},
   "outputs": [
    {
     "data": {
      "text/plain": [
       "(1000, 56123)"
      ]
     },
     "execution_count": 145,
     "metadata": {},
     "output_type": "execute_result"
    }
   ],
   "source": [
    "tr1_sn.shape"
   ]
  },
  {
   "cell_type": "code",
   "execution_count": 20,
   "metadata": {},
   "outputs": [],
   "source": [
    "train_labels = newsgroups_train.target\n",
    "test_labels = newsgroups_test.target\n",
    "p_idxs = train_labels <= 5\n",
    "sn_idxs = np.logical_and(5 < train_labels, train_labels <= 10)"
   ]
  },
  {
   "cell_type": "code",
   "execution_count": null,
   "metadata": {},
   "outputs": [],
   "source": [
    "tr_l = np.concatenate([np.ones(tre_p.shape[0]), -np.ones(tre_sn.shape[0])])"
   ]
  },
  {
   "cell_type": "code",
   "execution_count": 324,
   "metadata": {},
   "outputs": [],
   "source": [
    "tr_l = np.concatenate([np.ones(n), -np.ones(n)])"
   ]
  },
  {
   "cell_type": "markdown",
   "metadata": {},
   "source": [
    "# CBS"
   ]
  },
  {
   "cell_type": "code",
   "execution_count": 30,
   "metadata": {},
   "outputs": [],
   "source": [
    "from sklearn import preprocessing"
   ]
  },
  {
   "cell_type": "code",
   "execution_count": 31,
   "metadata": {},
   "outputs": [],
   "source": [
    "def center(p_vectors, n_vectors, alpha=16, beta=4):\n",
    "    p_nor = preprocessing.normalize(p_vectors)\n",
    "    n_nor = preprocessing.normalize(n_vectors)\n",
    "    return alpha*np.mean(p_nor, axis=0) - beta*np.mean(n_nor, axis=0)"
   ]
  },
  {
   "cell_type": "code",
   "execution_count": 32,
   "metadata": {},
   "outputs": [],
   "source": [
    "def sim_cos(vecs, c):\n",
    "    vecs_nor = preprocessing.normalize(vecs)\n",
    "    c_nor = preprocessing.normalize(c[None, :])[0]\n",
    "    return vecs_nor @ c_nor\n",
    "\n",
    "def sim_gow(vecs, c):\n",
    "    vecs_nor = preprocessing.normalize(vecs)\n",
    "    c_nor = preprocessing.normalize(c[None, :])[0]\n",
    "    return 1 - np.mean(np.abs(vecs_nor-c_nor), axis=1)\n",
    "\n",
    "def sim_lor(vecs, c):\n",
    "    return 1 - np.sum(np.log(1+np.abs(vecs-c)), axis=1)\n",
    "\n",
    "def sim_dice(vecs, c, epsilon=1e-8):\n",
    "    vecs_sum = np.sum(vecs**2, axis=1)\n",
    "    c_sum = np.sum(c**2)\n",
    "    return 2*vecs@c/(vecs_sum+c_sum+epsilon)\n",
    "\n",
    "def sim_jac(vecs, c, epsilon=1e-8):\n",
    "    vecs_sum = np.sum(vecs**2, axis=1)\n",
    "    c_sum = np.sum(c**2)\n",
    "    vecs_c = vecs @ c\n",
    "    return vecs_c/(vecs_sum+c_sum-vecs_c+epsilon)"
   ]
  },
  {
   "cell_type": "code",
   "execution_count": 33,
   "metadata": {},
   "outputs": [],
   "source": [
    "def sims(vecs, c, epsilon=1e-8):\n",
    "    sims_cos = sim_cos(vecs, c)\n",
    "    sims_gow = sim_gow(vecs, c)\n",
    "    sims_lor = sim_lor(vecs, c)\n",
    "    sims_dice = sim_dice(vecs, c, epsilon)\n",
    "    sims_jac = sim_jac(vecs, c, epsilon)\n",
    "    return np.vstack([sims_cos, sims_gow, sims_lor, sims_dice, sims_jac]).T"
   ]
  },
  {
   "cell_type": "code",
   "execution_count": 34,
   "metadata": {},
   "outputs": [],
   "source": [
    "from sklearn.feature_selection import mutual_info_classif\n",
    "from sklearn.feature_selection import chi2\n",
    "from sklearn.metrics import f1_score\n",
    "import scipy.sparse"
   ]
  },
  {
   "cell_type": "code",
   "execution_count": 876,
   "metadata": {},
   "outputs": [],
   "source": [
    "vectors_tr1 = scipy.sparse.vstack([tr1_p, tr1_sn])"
   ]
  },
  {
   "cell_type": "code",
   "execution_count": 879,
   "metadata": {},
   "outputs": [],
   "source": [
    "f_score1 = chi2(vectors_tr1, tr_l)\n",
    "# f_score1 = mutual_info_classif(vectors_tr1, tr_l, discrete_features=True)"
   ]
  },
  {
   "cell_type": "code",
   "execution_count": 943,
   "metadata": {},
   "outputs": [],
   "source": [
    "n_select = 50"
   ]
  },
  {
   "cell_type": "code",
   "execution_count": 944,
   "metadata": {},
   "outputs": [],
   "source": [
    "s1_idxs = np.argsort(-f_score1[0])[:n_select]\n",
    "vectors_tr_in1 = vectors_tr1[:, s1_idxs]\n",
    "vectors_te_in1 = vectors_test[:, s1_idxs][:2000]"
   ]
  },
  {
   "cell_type": "code",
   "execution_count": 945,
   "metadata": {},
   "outputs": [
    {
     "name": "stdout",
     "output_type": "stream",
     "text": [
      "0.7965\n"
     ]
    },
    {
     "data": {
      "text/plain": [
       "0.8475084301236419"
      ]
     },
     "execution_count": 945,
     "metadata": {},
     "output_type": "execute_result"
    }
   ],
   "source": [
    "clf = LinearSVC()\n",
    "clf.fit(vectors_tr_in1, tr_l)\n",
    "print(clf.score(vectors_te_in1, test_target[:2000]))\n",
    "f1_score(-test_target[:2000], -clf.predict(vectors_te_in1))"
   ]
  },
  {
   "cell_type": "code",
   "execution_count": 946,
   "metadata": {},
   "outputs": [
    {
     "name": "stdout",
     "output_type": "stream",
     "text": [
      "0.732\n"
     ]
    },
    {
     "data": {
      "text/plain": [
       "0.7757322175732217"
      ]
     },
     "execution_count": 946,
     "metadata": {},
     "output_type": "execute_result"
    }
   ],
   "source": [
    "clf = LinearSVC()\n",
    "clf.fit(vectors_tr1, tr_l)\n",
    "print(clf.score(vectors_test[:2000], test_target[:2000]))\n",
    "f1_score(-test_target[:2000], -clf.predict(vectors_test[:2000]))"
   ]
  },
  {
   "cell_type": "code",
   "execution_count": 951,
   "metadata": {},
   "outputs": [],
   "source": [
    "tr1_s = vectors_tr_in1.toarray()\n",
    "te1_s = vectors_te_in1.toarray()"
   ]
  },
  {
   "cell_type": "code",
   "execution_count": 952,
   "metadata": {},
   "outputs": [],
   "source": [
    "c1 = center(tr1_s[:n], tr1_s[n:], alpha=8, beta=4)\n",
    "cbs_tr1 = preprocessing.scale(sims(tr1_s, c1))\n",
    "cbs_te1 = preprocessing.scale(sims(te1_s, c1))"
   ]
  },
  {
   "cell_type": "code",
   "execution_count": 953,
   "metadata": {},
   "outputs": [
    {
     "name": "stdout",
     "output_type": "stream",
     "text": [
      "0.786\n"
     ]
    },
    {
     "data": {
      "text/plain": [
       "0.8381240544629349"
      ]
     },
     "execution_count": 953,
     "metadata": {},
     "output_type": "execute_result"
    }
   ],
   "source": [
    "clf = SVC(max_iter=10000)\n",
    "clf.fit(cbs_tr1, tr_l)\n",
    "print(clf.score(cbs_te1, test_target[:2000]))\n",
    "f1_score(-test_target[:2000], -clf.predict(cbs_te1))"
   ]
  },
  {
   "cell_type": "code",
   "execution_count": 887,
   "metadata": {},
   "outputs": [],
   "source": [
    "from sklearn.ensemble import RandomForestClassifier"
   ]
  },
  {
   "cell_type": "code",
   "execution_count": 888,
   "metadata": {},
   "outputs": [
    {
     "name": "stdout",
     "output_type": "stream",
     "text": [
      "0.7005\n"
     ]
    },
    {
     "data": {
      "text/plain": [
       "0.7477894736842106"
      ]
     },
     "execution_count": 888,
     "metadata": {},
     "output_type": "execute_result"
    }
   ],
   "source": [
    "clf = RandomForestClassifier(n_estimators=200)\n",
    "clf.fit(vectors_tr1, tr_l)\n",
    "print(clf.score(vectors_test[:2000], test_target[:2000]))\n",
    "f1_score(-test_target[:2000], -clf.predict(vectors_test[:2000]))"
   ]
  },
  {
   "cell_type": "code",
   "execution_count": 889,
   "metadata": {},
   "outputs": [],
   "source": [
    "vectors_tr2 = scipy.sparse.vstack([tr2_p, tr2_sn])"
   ]
  },
  {
   "cell_type": "code",
   "execution_count": 890,
   "metadata": {},
   "outputs": [],
   "source": [
    "f_score2 = chi2(vectors_tr2, tr_l)\n",
    "s2_idxs = np.argsort(-f_score2[0])[:n_select]\n",
    "vectors_tr_in2 = vectors_tr2[:, s2_idxs]\n",
    "vectors_te_in2 = vectors_test_bi[:, s2_idxs][:2000]"
   ]
  },
  {
   "cell_type": "code",
   "execution_count": 891,
   "metadata": {},
   "outputs": [],
   "source": [
    "vectors_tr3 = scipy.sparse.vstack([tr3_p, tr3_sn])"
   ]
  },
  {
   "cell_type": "code",
   "execution_count": 892,
   "metadata": {},
   "outputs": [],
   "source": [
    "f_score3 = chi2(vectors_tr3, tr_l)\n",
    "s3_idxs = np.argsort(-f_score3[0])[:n_select]\n",
    "vectors_tr_in3 = vectors_tr2[:, s3_idxs]\n",
    "vectors_te_in3 = vectors_test_bi[:, s3_idxs][:2000]"
   ]
  },
  {
   "cell_type": "code",
   "execution_count": 893,
   "metadata": {},
   "outputs": [],
   "source": [
    "tr2_s = vectors_tr_in2.toarray()\n",
    "te2_s = vectors_te_in2.toarray()"
   ]
  },
  {
   "cell_type": "code",
   "execution_count": 894,
   "metadata": {},
   "outputs": [],
   "source": [
    "c2 = center(tr2_s[:n], tr2_s[n:], alpha=4, beta=2)\n",
    "cbs_tr2 = sims(tr2_s, c2)\n",
    "cbs_te2 = sims(te2_s, c2)"
   ]
  },
  {
   "cell_type": "code",
   "execution_count": 895,
   "metadata": {},
   "outputs": [
    {
     "name": "stdout",
     "output_type": "stream",
     "text": [
      "0.434\n"
     ]
    },
    {
     "data": {
      "text/plain": [
       "0.3887688984881209"
      ]
     },
     "execution_count": 895,
     "metadata": {},
     "output_type": "execute_result"
    }
   ],
   "source": [
    "clf = LinearSVC(max_iter=5000)\n",
    "clf.fit(cbs_tr2, tr_l)\n",
    "print(clf.score(cbs_te2, test_target[:2000]))\n",
    "f1_score(-test_target[:2000], -clf.predict(cbs_te2))"
   ]
  },
  {
   "cell_type": "code",
   "execution_count": 896,
   "metadata": {},
   "outputs": [],
   "source": [
    "tr3_s = vectors_tr_in3.toarray()\n",
    "te3_s = vectors_te_in3.toarray()"
   ]
  },
  {
   "cell_type": "code",
   "execution_count": 897,
   "metadata": {},
   "outputs": [],
   "source": [
    "c3 = center(tr3_s[:n], tr3_s[n:], alpha=4, beta=2)\n",
    "cbs_tr3 = sims(tr3_s, c3)\n",
    "cbs_te3 = sims(te3_s, c3)"
   ]
  },
  {
   "cell_type": "code",
   "execution_count": 898,
   "metadata": {},
   "outputs": [
    {
     "name": "stdout",
     "output_type": "stream",
     "text": [
      "0.368\n"
     ]
    },
    {
     "data": {
      "text/plain": [
       "0.24851367419738402"
      ]
     },
     "execution_count": 898,
     "metadata": {},
     "output_type": "execute_result"
    }
   ],
   "source": [
    "clf = LinearSVC(max_iter=5000)\n",
    "clf.fit(cbs_tr3, tr_l)\n",
    "print(clf.score(cbs_te3, test_target[:2000]))\n",
    "f1_score(-test_target[:2000], -clf.predict(cbs_te3))"
   ]
  },
  {
   "cell_type": "code",
   "execution_count": 899,
   "metadata": {},
   "outputs": [],
   "source": [
    "cbs_tr = np.hstack([cbs_tr1, cbs_tr2, cbs_tr3])\n",
    "cbs_te = np.hstack([cbs_te1, cbs_te2, cbs_te3])"
   ]
  },
  {
   "cell_type": "code",
   "execution_count": 900,
   "metadata": {},
   "outputs": [
    {
     "name": "stdout",
     "output_type": "stream",
     "text": [
      "0.7735\n"
     ]
    },
    {
     "data": {
      "text/plain": [
       "0.8210193599367838"
      ]
     },
     "execution_count": 900,
     "metadata": {},
     "output_type": "execute_result"
    }
   ],
   "source": [
    "clf = LinearSVC(max_iter=5000)\n",
    "clf.fit(cbs_tr, tr_l)\n",
    "print(clf.score(cbs_te, test_target[:2000]))\n",
    "f1_score(-test_target[:2000], -clf.predict(cbs_te))"
   ]
  },
  {
   "cell_type": "markdown",
   "metadata": {
    "heading_collapsed": true
   },
   "source": [
    "## elmo"
   ]
  },
  {
   "cell_type": "code",
   "execution_count": 315,
   "metadata": {
    "hidden": true
   },
   "outputs": [],
   "source": [
    "n_select = 1000"
   ]
  },
  {
   "cell_type": "code",
   "execution_count": 271,
   "metadata": {
    "hidden": true
   },
   "outputs": [],
   "source": [
    "vectors_tre = np.vstack([tre_p, tre_sn])"
   ]
  },
  {
   "cell_type": "code",
   "execution_count": 273,
   "metadata": {
    "hidden": true
   },
   "outputs": [],
   "source": [
    "# f_scoree = chi2(vectors_tre, tr_l)\n",
    "f_scoree = mutual_info_classif(vectors_tre, tr_l, discrete_features=True)"
   ]
  },
  {
   "cell_type": "code",
   "execution_count": 316,
   "metadata": {
    "hidden": true
   },
   "outputs": [],
   "source": [
    "s1_idxs = np.argsort(-f_scoree)[:n_select]\n",
    "vectors_tr_ine = vectors_tre[:, s1_idxs]\n",
    "vectors_te_ine = test_data_p[:, s1_idxs][:2000]"
   ]
  },
  {
   "cell_type": "code",
   "execution_count": 317,
   "metadata": {
    "hidden": true
   },
   "outputs": [
    {
     "name": "stdout",
     "output_type": "stream",
     "text": [
      "0.746\n"
     ]
    },
    {
     "data": {
      "text/plain": [
       "0.7814113597246127"
      ]
     },
     "execution_count": 317,
     "metadata": {},
     "output_type": "execute_result"
    }
   ],
   "source": [
    "clf = LinearSVC()\n",
    "clf.fit(vectors_tr_ine, tr_l)\n",
    "print(clf.score(vectors_te_ine, test_target[:2000]))\n",
    "f1_score(clf.predict(vectors_te_ine), test_target[:2000])"
   ]
  },
  {
   "cell_type": "code",
   "execution_count": 272,
   "metadata": {
    "hidden": true
   },
   "outputs": [
    {
     "name": "stdout",
     "output_type": "stream",
     "text": [
      "0.835\n"
     ]
    },
    {
     "data": {
      "text/plain": [
       "0.8547535211267606"
      ]
     },
     "execution_count": 272,
     "metadata": {},
     "output_type": "execute_result"
    }
   ],
   "source": [
    "clf = LinearSVC()\n",
    "clf.fit(vectors_tre, tr_l)\n",
    "print(clf.score(test_data_p[:2000], test_target[:2000]))\n",
    "f1_score(clf.predict(test_data_p[:2000]), test_target[:2000])"
   ]
  },
  {
   "cell_type": "code",
   "execution_count": 299,
   "metadata": {
    "hidden": true
   },
   "outputs": [],
   "source": [
    "c = center(vectors_tre[:n], vectors_tre[n:], alpha=10, beta=4)\n",
    "cbs_tr = sims(vectors_tre, c)\n",
    "cbs_te = sims(test_data_p[:2000], c)"
   ]
  },
  {
   "cell_type": "code",
   "execution_count": 289,
   "metadata": {
    "hidden": true
   },
   "outputs": [
    {
     "name": "stdout",
     "output_type": "stream",
     "text": [
      "0.574\n"
     ]
    },
    {
     "name": "stderr",
     "output_type": "stream",
     "text": [
      "/usr/local/lib/python3.6/dist-packages/sklearn/svm/base.py:922: ConvergenceWarning: Liblinear failed to converge, increase the number of iterations.\n",
      "  \"the number of iterations.\", ConvergenceWarning)\n"
     ]
    },
    {
     "data": {
      "text/plain": [
       "0.7293519695044473"
      ]
     },
     "execution_count": 289,
     "metadata": {},
     "output_type": "execute_result"
    }
   ],
   "source": [
    "clf = LinearSVC()\n",
    "clf.fit(cbs_tr, tr_l)\n",
    "print(clf.score(cbs_te, test_target[:2000]))\n",
    "f1_score(clf.predict(cbs_te), test_target[:2000])"
   ]
  },
  {
   "cell_type": "code",
   "execution_count": 318,
   "metadata": {
    "hidden": true
   },
   "outputs": [],
   "source": [
    "tr1_s = vectors_tr_ine\n",
    "te1_s = vectors_te_ine"
   ]
  },
  {
   "cell_type": "code",
   "execution_count": 319,
   "metadata": {
    "hidden": true
   },
   "outputs": [],
   "source": [
    "c1 = center(tr1_s[:n], tr1_s[n:], alpha=10, beta=6)\n",
    "cbs_tr1 = sims(tr1_s, c1)\n",
    "cbs_te1 = sims(te1_s, c1)"
   ]
  },
  {
   "cell_type": "code",
   "execution_count": 320,
   "metadata": {
    "hidden": true
   },
   "outputs": [
    {
     "name": "stdout",
     "output_type": "stream",
     "text": [
      "0.574\n"
     ]
    },
    {
     "name": "stderr",
     "output_type": "stream",
     "text": [
      "/usr/local/lib/python3.6/dist-packages/sklearn/svm/base.py:922: ConvergenceWarning: Liblinear failed to converge, increase the number of iterations.\n",
      "  \"the number of iterations.\", ConvergenceWarning)\n"
     ]
    },
    {
     "data": {
      "text/plain": [
       "0.7293519695044473"
      ]
     },
     "execution_count": 320,
     "metadata": {},
     "output_type": "execute_result"
    }
   ],
   "source": [
    "clf = LinearSVC(max_iter=5000)\n",
    "clf.fit(cbs_tr1, tr_l)\n",
    "print(clf.score(cbs_te1, test_target[:2000]))\n",
    "f1_score(test_target[:2000], clf.predict(cbs_te1))"
   ]
  },
  {
   "cell_type": "markdown",
   "metadata": {},
   "source": [
    "## pytorch"
   ]
  },
  {
   "cell_type": "code",
   "execution_count": 326,
   "metadata": {},
   "outputs": [],
   "source": [
    "class Net(nn.Module):\n",
    "\n",
    "    def __init__(self, d_input):\n",
    "        super(Net, self).__init__()\n",
    "        self.fc1 = nn.Linear(d_input, 1)\n",
    "\n",
    "    def forward(self, x):\n",
    "        x = self.fc1(x)\n",
    "        return x"
   ]
  },
  {
   "cell_type": "code",
   "execution_count": 330,
   "metadata": {},
   "outputs": [],
   "source": [
    "vectors_tr_p = preprocessing.scale(cbs_tr)\n",
    "vectors_te_p = preprocessing.scale(cbs_te)"
   ]
  },
  {
   "cell_type": "code",
   "execution_count": 336,
   "metadata": {},
   "outputs": [],
   "source": [
    "training_set = torch.utils.data.TensorDataset(\n",
    "    torch.tensor(cbs_tr), torch.tensor(tr_l).unsqueeze(1))\n",
    "test_set = torch.utils.data.TensorDataset(\n",
    "    torch.tensor(cbs_te), torch.tensor(test_target[:2000]).unsqueeze(1))"
   ]
  },
  {
   "cell_type": "code",
   "execution_count": 337,
   "metadata": {},
   "outputs": [],
   "source": [
    "model = Net(15).cuda()\n",
    "cls = Classifier(model, lr=5e-3, weight_decay=1e-4)"
   ]
  },
  {
   "cell_type": "code",
   "execution_count": 338,
   "metadata": {
    "scrolled": true
   },
   "outputs": [
    {
     "name": "stdout",
     "output_type": "stream",
     "text": [
      "Test set: Accuracy: 57.40%\n",
      "Test set: F1 Score: 72.94%\n",
      "Epoch: 0  Train Loss: 1381.562126\n",
      "Test set: Accuracy: 49.15%\n",
      "Test set: F1 Score: 24.05%\n",
      "Epoch: 1  Train Loss: 1353.100014\n",
      "Test set: Accuracy: 57.25%\n",
      "Test set: F1 Score: 43.19%\n",
      "Epoch: 2  Train Loss: 1333.811615\n",
      "Test set: Accuracy: 67.95%\n",
      "Test set: F1 Score: 77.98%\n",
      "Epoch: 3  Train Loss: 1319.838493\n",
      "Test set: Accuracy: 60.70%\n",
      "Test set: F1 Score: 74.46%\n",
      "Epoch: 4  Train Loss: 1287.703045\n",
      "Test set: Accuracy: 62.95%\n",
      "Test set: F1 Score: 55.76%\n",
      "Epoch: 5  Train Loss: 1268.075882\n",
      "Test set: Accuracy: 72.30%\n",
      "Test set: F1 Score: 71.44%\n",
      "Epoch: 6  Train Loss: 1248.862343\n",
      "Test set: Accuracy: 67.45%\n",
      "Test set: F1 Score: 64.01%\n",
      "Epoch: 7  Train Loss: 1229.775620\n",
      "Test set: Accuracy: 80.25%\n",
      "Test set: F1 Score: 82.59%\n",
      "Epoch: 8  Train Loss: 1212.279110\n",
      "Test set: Accuracy: 80.25%\n",
      "Test set: F1 Score: 82.50%\n",
      "Epoch: 9  Train Loss: 1195.412617\n",
      "Test set: Accuracy: 67.70%\n",
      "Test set: F1 Score: 64.43%\n",
      "Epoch: 10  Train Loss: 1180.469841\n",
      "Test set: Accuracy: 66.90%\n",
      "Test set: F1 Score: 63.14%\n",
      "Epoch: 11  Train Loss: 1162.844463\n",
      "Test set: Accuracy: 79.10%\n",
      "Test set: F1 Score: 80.86%\n",
      "Epoch: 12  Train Loss: 1150.100681\n",
      "Test set: Accuracy: 78.10%\n",
      "Test set: F1 Score: 83.08%\n",
      "Epoch: 13  Train Loss: 1133.036812\n",
      "Test set: Accuracy: 80.05%\n",
      "Test set: F1 Score: 82.52%\n",
      "Epoch: 14  Train Loss: 1116.078293\n",
      "Test set: Accuracy: 79.50%\n",
      "Test set: F1 Score: 81.41%\n",
      "Epoch: 15  Train Loss: 1102.554466\n",
      "Test set: Accuracy: 79.90%\n",
      "Test set: F1 Score: 82.49%\n",
      "Epoch: 16  Train Loss: 1087.823269\n",
      "Test set: Accuracy: 80.00%\n",
      "Test set: F1 Score: 82.70%\n",
      "Epoch: 17  Train Loss: 1074.698875\n",
      "Test set: Accuracy: 77.60%\n",
      "Test set: F1 Score: 78.97%\n",
      "Epoch: 18  Train Loss: 1062.649506\n",
      "Test set: Accuracy: 79.35%\n",
      "Test set: F1 Score: 83.62%\n",
      "Epoch: 19  Train Loss: 1054.132812\n",
      "Test set: Accuracy: 70.15%\n",
      "Test set: F1 Score: 79.19%\n",
      "Epoch: 20  Train Loss: 1043.283463\n",
      "Test set: Accuracy: 75.90%\n",
      "Test set: F1 Score: 76.49%\n",
      "Epoch: 21  Train Loss: 1024.849720\n",
      "Test set: Accuracy: 79.85%\n",
      "Test set: F1 Score: 82.47%\n",
      "Epoch: 22  Train Loss: 1014.217541\n",
      "Test set: Accuracy: 79.25%\n",
      "Test set: F1 Score: 83.43%\n",
      "Epoch: 23  Train Loss: 1008.144493\n",
      "Test set: Accuracy: 79.80%\n",
      "Test set: F1 Score: 83.64%\n",
      "Epoch: 24  Train Loss: 994.887680\n",
      "Test set: Accuracy: 77.70%\n",
      "Test set: F1 Score: 79.04%\n",
      "Epoch: 25  Train Loss: 983.611053\n",
      "Test set: Accuracy: 76.70%\n",
      "Test set: F1 Score: 77.55%\n",
      "Epoch: 26  Train Loss: 973.065533\n",
      "Test set: Accuracy: 80.25%\n",
      "Test set: F1 Score: 83.34%\n",
      "Epoch: 27  Train Loss: 961.582466\n",
      "Test set: Accuracy: 79.80%\n",
      "Test set: F1 Score: 82.14%\n",
      "Epoch: 28  Train Loss: 952.501980\n",
      "Test set: Accuracy: 79.50%\n",
      "Test set: F1 Score: 81.61%\n",
      "Epoch: 29  Train Loss: 943.368034\n",
      "Test set: Accuracy: 79.90%\n",
      "Test set: F1 Score: 82.17%\n",
      "Epoch: 30  Train Loss: 934.540062\n",
      "Test set: Accuracy: 77.75%\n",
      "Test set: F1 Score: 79.18%\n",
      "Epoch: 31  Train Loss: 926.223701\n",
      "Test set: Accuracy: 80.05%\n",
      "Test set: F1 Score: 82.84%\n",
      "Epoch: 32  Train Loss: 916.427402\n",
      "Test set: Accuracy: 79.50%\n",
      "Test set: F1 Score: 81.50%\n",
      "Epoch: 33  Train Loss: 911.662956\n",
      "Test set: Accuracy: 79.15%\n",
      "Test set: F1 Score: 80.98%\n",
      "Epoch: 34  Train Loss: 899.541901\n",
      "Test set: Accuracy: 80.00%\n",
      "Test set: F1 Score: 83.58%\n",
      "Epoch: 35  Train Loss: 893.593788\n",
      "Test set: Accuracy: 79.75%\n",
      "Test set: F1 Score: 82.32%\n",
      "Epoch: 36  Train Loss: 886.235470\n",
      "Test set: Accuracy: 80.20%\n",
      "Test set: F1 Score: 83.81%\n",
      "Epoch: 37  Train Loss: 876.877583\n",
      "Test set: Accuracy: 80.00%\n",
      "Test set: F1 Score: 83.02%\n",
      "Epoch: 38  Train Loss: 870.582973\n",
      "Test set: Accuracy: 80.00%\n",
      "Test set: F1 Score: 83.02%\n",
      "Epoch: 39  Train Loss: 863.258762\n",
      "Test set: Accuracy: 79.90%\n",
      "Test set: F1 Score: 82.81%\n",
      "Epoch: 40  Train Loss: 857.069210\n",
      "Test set: Accuracy: 79.75%\n",
      "Test set: F1 Score: 82.10%\n",
      "Epoch: 41  Train Loss: 849.764614\n",
      "Test set: Accuracy: 80.00%\n",
      "Test set: F1 Score: 83.01%\n",
      "Epoch: 42  Train Loss: 850.362896\n",
      "Test set: Accuracy: 79.20%\n",
      "Test set: F1 Score: 81.00%\n",
      "Epoch: 43  Train Loss: 835.520161\n",
      "Test set: Accuracy: 80.25%\n",
      "Test set: F1 Score: 83.31%\n",
      "Epoch: 44  Train Loss: 834.394989\n",
      "Test set: Accuracy: 79.85%\n",
      "Test set: F1 Score: 83.74%\n",
      "Epoch: 45  Train Loss: 828.082874\n",
      "Test set: Accuracy: 79.25%\n",
      "Test set: F1 Score: 83.67%\n",
      "Epoch: 46  Train Loss: 825.285595\n",
      "Test set: Accuracy: 79.85%\n",
      "Test set: F1 Score: 82.46%\n",
      "Epoch: 47  Train Loss: 815.185907\n",
      "Test set: Accuracy: 79.80%\n",
      "Test set: F1 Score: 82.45%\n",
      "Epoch: 48  Train Loss: 806.681143\n",
      "Test set: Accuracy: 79.95%\n",
      "Test set: F1 Score: 82.86%\n",
      "Epoch: 49  Train Loss: 802.496044\n",
      "Test set: Accuracy: 79.90%\n",
      "Test set: F1 Score: 82.58%\n",
      "Epoch: 50  Train Loss: 796.834236\n",
      "Test set: Accuracy: 79.95%\n",
      "Test set: F1 Score: 83.88%\n",
      "Epoch: 51  Train Loss: 794.951454\n",
      "Test set: Accuracy: 80.40%\n",
      "Test set: F1 Score: 83.61%\n",
      "Epoch: 52  Train Loss: 786.777519\n",
      "Test set: Accuracy: 79.40%\n",
      "Test set: F1 Score: 81.24%\n",
      "Epoch: 53  Train Loss: 781.499493\n",
      "Test set: Accuracy: 80.40%\n",
      "Test set: F1 Score: 83.42%\n",
      "Epoch: 54  Train Loss: 777.505646\n",
      "Test set: Accuracy: 80.30%\n",
      "Test set: F1 Score: 83.45%\n",
      "Epoch: 55  Train Loss: 775.288782\n",
      "Test set: Accuracy: 79.45%\n",
      "Test set: F1 Score: 81.36%\n",
      "Epoch: 56  Train Loss: 769.343746\n",
      "Test set: Accuracy: 79.45%\n",
      "Test set: F1 Score: 81.66%\n",
      "Epoch: 57  Train Loss: 763.205605\n",
      "Test set: Accuracy: 80.40%\n",
      "Test set: F1 Score: 83.61%\n",
      "Epoch: 58  Train Loss: 759.062935\n",
      "Test set: Accuracy: 79.55%\n",
      "Test set: F1 Score: 81.73%\n",
      "Epoch: 59  Train Loss: 756.694859\n",
      "Test set: Accuracy: 79.10%\n",
      "Test set: F1 Score: 80.90%\n",
      "Epoch: 60  Train Loss: 748.622347\n",
      "Test set: Accuracy: 80.05%\n",
      "Test set: F1 Score: 83.90%\n",
      "Epoch: 61  Train Loss: 746.605549\n",
      "Test set: Accuracy: 79.90%\n",
      "Test set: F1 Score: 82.73%\n",
      "Epoch: 62  Train Loss: 741.335508\n",
      "Test set: Accuracy: 79.80%\n",
      "Test set: F1 Score: 82.16%\n",
      "Epoch: 63  Train Loss: 739.674107\n",
      "Test set: Accuracy: 79.70%\n",
      "Test set: F1 Score: 82.26%\n",
      "Epoch: 64  Train Loss: 733.937065\n",
      "Test set: Accuracy: 79.65%\n",
      "Test set: F1 Score: 81.85%\n",
      "Epoch: 65  Train Loss: 729.795996\n",
      "Test set: Accuracy: 80.05%\n",
      "Test set: F1 Score: 83.73%\n",
      "Epoch: 66  Train Loss: 728.888348\n",
      "Test set: Accuracy: 79.95%\n",
      "Test set: F1 Score: 83.84%\n",
      "Epoch: 67  Train Loss: 722.264065\n",
      "Test set: Accuracy: 79.35%\n",
      "Test set: F1 Score: 81.25%\n",
      "Epoch: 68  Train Loss: 719.973513\n",
      "Test set: Accuracy: 80.05%\n",
      "Test set: F1 Score: 82.97%\n",
      "Epoch: 69  Train Loss: 713.896091\n",
      "Test set: Accuracy: 79.95%\n",
      "Test set: F1 Score: 82.59%\n",
      "Epoch: 70  Train Loss: 710.976051\n",
      "Test set: Accuracy: 79.90%\n",
      "Test set: F1 Score: 82.82%\n",
      "Epoch: 71  Train Loss: 708.290304\n",
      "Test set: Accuracy: 80.45%\n",
      "Test set: F1 Score: 83.58%\n",
      "Epoch: 72  Train Loss: 707.203506\n",
      "Test set: Accuracy: 80.05%\n",
      "Test set: F1 Score: 83.61%\n",
      "Epoch: 73  Train Loss: 701.564907\n",
      "Test set: Accuracy: 80.25%\n",
      "Test set: F1 Score: 83.26%\n",
      "Epoch: 74  Train Loss: 698.172647\n",
      "Test set: Accuracy: 80.20%\n",
      "Test set: F1 Score: 83.13%\n",
      "Epoch: 75  Train Loss: 694.759882\n",
      "Test set: Accuracy: 79.80%\n",
      "Test set: F1 Score: 82.14%\n",
      "Epoch: 76  Train Loss: 691.991302\n",
      "Test set: Accuracy: 80.00%\n",
      "Test set: F1 Score: 82.83%\n",
      "Epoch: 77  Train Loss: 689.162733\n",
      "Test set: Accuracy: 80.30%\n",
      "Test set: F1 Score: 83.91%\n",
      "Epoch: 78  Train Loss: 685.796974\n",
      "Test set: Accuracy: 79.60%\n",
      "Test set: F1 Score: 82.17%\n",
      "Epoch: 79  Train Loss: 683.505882\n",
      "Test set: Accuracy: 80.00%\n",
      "Test set: F1 Score: 82.64%\n"
     ]
    }
   ],
   "source": [
    "cls.train(training_set, test_set, batch_size=120, num_epochs=80)"
   ]
  },
  {
   "cell_type": "code",
   "execution_count": 102,
   "metadata": {},
   "outputs": [],
   "source": [
    "vectors_tr_p = preprocessing.scale(vectors_tr_in1.toarray())\n",
    "vectors_te_p = preprocessing.scale(vectors_te_in1.toarray())"
   ]
  },
  {
   "cell_type": "code",
   "execution_count": 331,
   "metadata": {},
   "outputs": [],
   "source": [
    "training_set = torch.utils.data.TensorDataset(\n",
    "    torch.tensor(vectors_tr_p), torch.tensor(tr_l).unsqueeze(1))\n",
    "test_set = torch.utils.data.TensorDataset(\n",
    "    torch.tensor(vectors_te_p), torch.tensor(test_target[:2000]).unsqueeze(1))"
   ]
  },
  {
   "cell_type": "code",
   "execution_count": 96,
   "metadata": {},
   "outputs": [
    {
     "data": {
      "text/plain": [
       "(6390, 600)"
      ]
     },
     "execution_count": 96,
     "metadata": {},
     "output_type": "execute_result"
    }
   ],
   "source": [
    "vectors_tr_p.shape"
   ]
  },
  {
   "cell_type": "code",
   "execution_count": 99,
   "metadata": {},
   "outputs": [],
   "source": [
    "model = Net(600).cuda()\n",
    "cls = Classifier(model, lr=1e-3, weight_decay=1e-4)"
   ]
  },
  {
   "cell_type": "code",
   "execution_count": 100,
   "metadata": {},
   "outputs": [
    {
     "name": "stdout",
     "output_type": "stream",
     "text": [
      "Test set: Accuracy: 58.25%\n",
      "Test set: F1 Score: 49.55%\n",
      "Epoch: 0  Train Loss: 2673.447735\n",
      "Test set: Accuracy: 70.55%\n",
      "Test set: F1 Score: 66.63%\n",
      "Epoch: 1  Train Loss: 1522.633986\n",
      "Test set: Accuracy: 71.45%\n",
      "Test set: F1 Score: 67.50%\n",
      "Epoch: 2  Train Loss: 1203.305039\n",
      "Test set: Accuracy: 71.35%\n",
      "Test set: F1 Score: 67.39%\n",
      "Epoch: 3  Train Loss: 1039.373862\n",
      "Test set: Accuracy: 71.30%\n",
      "Test set: F1 Score: 67.31%\n",
      "Epoch: 4  Train Loss: 936.379956\n",
      "Test set: Accuracy: 71.05%\n",
      "Test set: F1 Score: 67.12%\n",
      "Epoch: 5  Train Loss: 863.410553\n",
      "Test set: Accuracy: 70.85%\n",
      "Test set: F1 Score: 66.89%\n",
      "Epoch: 6  Train Loss: 810.162971\n",
      "Test set: Accuracy: 70.50%\n",
      "Test set: F1 Score: 66.55%\n",
      "Epoch: 7  Train Loss: 767.677536\n",
      "Test set: Accuracy: 70.20%\n",
      "Test set: F1 Score: 66.33%\n",
      "Epoch: 8  Train Loss: 734.302266\n",
      "Test set: Accuracy: 70.05%\n",
      "Test set: F1 Score: 66.22%\n",
      "Epoch: 9  Train Loss: 705.376602\n",
      "Test set: Accuracy: 69.85%\n",
      "Test set: F1 Score: 66.07%\n",
      "Epoch: 10  Train Loss: 681.746154\n",
      "Test set: Accuracy: 70.05%\n",
      "Test set: F1 Score: 66.29%\n",
      "Epoch: 11  Train Loss: 661.326416\n",
      "Test set: Accuracy: 70.10%\n",
      "Test set: F1 Score: 66.40%\n",
      "Epoch: 12  Train Loss: 643.418881\n",
      "Test set: Accuracy: 69.95%\n",
      "Test set: F1 Score: 66.29%\n",
      "Epoch: 13  Train Loss: 627.773391\n",
      "Test set: Accuracy: 69.65%\n",
      "Test set: F1 Score: 66.03%\n",
      "Epoch: 14  Train Loss: 614.092248\n",
      "Test set: Accuracy: 69.55%\n",
      "Test set: F1 Score: 65.96%\n",
      "Epoch: 15  Train Loss: 601.301619\n",
      "Test set: Accuracy: 69.65%\n",
      "Test set: F1 Score: 66.03%\n",
      "Epoch: 16  Train Loss: 589.672486\n",
      "Test set: Accuracy: 69.35%\n",
      "Test set: F1 Score: 65.81%\n",
      "Epoch: 17  Train Loss: 579.786241\n",
      "Test set: Accuracy: 69.40%\n",
      "Test set: F1 Score: 65.85%\n",
      "Epoch: 18  Train Loss: 570.447739\n",
      "Test set: Accuracy: 69.35%\n",
      "Test set: F1 Score: 65.81%\n",
      "Epoch: 19  Train Loss: 561.665067\n",
      "Test set: Accuracy: 69.40%\n",
      "Test set: F1 Score: 65.85%\n",
      "Epoch: 20  Train Loss: 554.010274\n",
      "Test set: Accuracy: 69.30%\n",
      "Test set: F1 Score: 65.81%\n",
      "Epoch: 21  Train Loss: 546.123003\n",
      "Test set: Accuracy: 69.35%\n",
      "Test set: F1 Score: 65.85%\n",
      "Epoch: 22  Train Loss: 539.391173\n",
      "Test set: Accuracy: 69.35%\n",
      "Test set: F1 Score: 65.85%\n",
      "Epoch: 23  Train Loss: 532.862655\n",
      "Test set: Accuracy: 69.20%\n",
      "Test set: F1 Score: 65.74%\n",
      "Epoch: 24  Train Loss: 527.576452\n",
      "Test set: Accuracy: 69.15%\n",
      "Test set: F1 Score: 65.66%\n",
      "Epoch: 25  Train Loss: 522.139532\n",
      "Test set: Accuracy: 68.85%\n",
      "Test set: F1 Score: 65.45%\n",
      "Epoch: 26  Train Loss: 516.471025\n",
      "Test set: Accuracy: 68.90%\n",
      "Test set: F1 Score: 65.48%\n",
      "Epoch: 27  Train Loss: 511.503623\n",
      "Test set: Accuracy: 69.05%\n",
      "Test set: F1 Score: 65.59%\n",
      "Epoch: 28  Train Loss: 506.704432\n",
      "Test set: Accuracy: 69.05%\n",
      "Test set: F1 Score: 65.59%\n",
      "Epoch: 29  Train Loss: 502.059683\n",
      "Test set: Accuracy: 68.90%\n",
      "Test set: F1 Score: 65.48%\n",
      "Epoch: 30  Train Loss: 498.249153\n",
      "Test set: Accuracy: 69.00%\n",
      "Test set: F1 Score: 65.52%\n",
      "Epoch: 31  Train Loss: 494.144989\n",
      "Test set: Accuracy: 68.80%\n",
      "Test set: F1 Score: 65.33%\n",
      "Epoch: 32  Train Loss: 490.422209\n",
      "Test set: Accuracy: 68.80%\n",
      "Test set: F1 Score: 65.29%\n",
      "Epoch: 33  Train Loss: 486.803351\n",
      "Test set: Accuracy: 68.90%\n",
      "Test set: F1 Score: 65.44%\n",
      "Epoch: 34  Train Loss: 483.633178\n",
      "Test set: Accuracy: 68.75%\n",
      "Test set: F1 Score: 65.26%\n",
      "Epoch: 35  Train Loss: 480.654930\n",
      "Test set: Accuracy: 68.55%\n",
      "Test set: F1 Score: 65.15%\n",
      "Epoch: 36  Train Loss: 477.042658\n",
      "Test set: Accuracy: 68.55%\n",
      "Test set: F1 Score: 65.07%\n",
      "Epoch: 37  Train Loss: 474.551121\n",
      "Test set: Accuracy: 68.20%\n",
      "Test set: F1 Score: 64.86%\n",
      "Epoch: 38  Train Loss: 471.009624\n",
      "Test set: Accuracy: 68.55%\n",
      "Test set: F1 Score: 65.07%\n",
      "Epoch: 39  Train Loss: 468.702416\n",
      "Test set: Accuracy: 68.55%\n",
      "Test set: F1 Score: 65.07%\n",
      "Epoch: 40  Train Loss: 465.944812\n",
      "Test set: Accuracy: 68.50%\n",
      "Test set: F1 Score: 65.04%\n",
      "Epoch: 41  Train Loss: 463.642453\n",
      "Test set: Accuracy: 68.50%\n",
      "Test set: F1 Score: 65.04%\n",
      "Epoch: 42  Train Loss: 461.442700\n",
      "Test set: Accuracy: 68.45%\n",
      "Test set: F1 Score: 64.96%\n",
      "Epoch: 43  Train Loss: 458.611837\n",
      "Test set: Accuracy: 68.60%\n",
      "Test set: F1 Score: 65.11%\n",
      "Epoch: 44  Train Loss: 456.911311\n",
      "Test set: Accuracy: 68.45%\n",
      "Test set: F1 Score: 64.96%\n",
      "Epoch: 45  Train Loss: 454.755327\n",
      "Test set: Accuracy: 68.55%\n",
      "Test set: F1 Score: 65.00%\n",
      "Epoch: 46  Train Loss: 452.270620\n",
      "Test set: Accuracy: 68.60%\n",
      "Test set: F1 Score: 65.07%\n",
      "Epoch: 47  Train Loss: 450.363286\n",
      "Test set: Accuracy: 68.65%\n",
      "Test set: F1 Score: 65.11%\n",
      "Epoch: 48  Train Loss: 448.522069\n",
      "Test set: Accuracy: 68.60%\n",
      "Test set: F1 Score: 65.07%\n",
      "Epoch: 49  Train Loss: 446.921470\n",
      "Test set: Accuracy: 68.70%\n",
      "Test set: F1 Score: 65.14%\n",
      "Epoch: 50  Train Loss: 444.484847\n",
      "Test set: Accuracy: 68.60%\n",
      "Test set: F1 Score: 65.07%\n",
      "Epoch: 51  Train Loss: 443.283772\n",
      "Test set: Accuracy: 68.50%\n",
      "Test set: F1 Score: 64.96%\n",
      "Epoch: 52  Train Loss: 441.640317\n",
      "Test set: Accuracy: 68.45%\n",
      "Test set: F1 Score: 64.92%\n",
      "Epoch: 53  Train Loss: 440.281180\n",
      "Test set: Accuracy: 68.30%\n",
      "Test set: F1 Score: 64.82%\n",
      "Epoch: 54  Train Loss: 438.432664\n",
      "Test set: Accuracy: 68.30%\n",
      "Test set: F1 Score: 64.82%\n",
      "Epoch: 55  Train Loss: 437.042300\n",
      "Test set: Accuracy: 68.25%\n",
      "Test set: F1 Score: 64.74%\n",
      "Epoch: 56  Train Loss: 435.397572\n",
      "Test set: Accuracy: 68.20%\n",
      "Test set: F1 Score: 64.71%\n",
      "Epoch: 57  Train Loss: 434.231682\n",
      "Test set: Accuracy: 68.20%\n",
      "Test set: F1 Score: 64.75%\n",
      "Epoch: 58  Train Loss: 432.568463\n",
      "Test set: Accuracy: 68.30%\n",
      "Test set: F1 Score: 64.78%\n",
      "Epoch: 59  Train Loss: 431.650163\n",
      "Test set: Accuracy: 69.75%\n",
      "Test set: F1 Score: 65.76%\n",
      "Epoch: 60  Train Loss: 430.293114\n",
      "Test set: Accuracy: 68.35%\n",
      "Test set: F1 Score: 64.81%\n",
      "Epoch: 61  Train Loss: 429.158897\n",
      "Test set: Accuracy: 68.25%\n",
      "Test set: F1 Score: 64.78%\n",
      "Epoch: 62  Train Loss: 427.771630\n",
      "Test set: Accuracy: 68.30%\n",
      "Test set: F1 Score: 64.78%\n",
      "Epoch: 63  Train Loss: 426.614160\n",
      "Test set: Accuracy: 69.85%\n",
      "Test set: F1 Score: 65.84%\n",
      "Epoch: 64  Train Loss: 424.795921\n",
      "Test set: Accuracy: 68.25%\n",
      "Test set: F1 Score: 64.78%\n",
      "Epoch: 65  Train Loss: 423.790172\n",
      "Test set: Accuracy: 68.25%\n",
      "Test set: F1 Score: 64.74%\n",
      "Epoch: 66  Train Loss: 422.629655\n",
      "Test set: Accuracy: 69.75%\n",
      "Test set: F1 Score: 65.72%\n",
      "Epoch: 67  Train Loss: 422.174502\n",
      "Test set: Accuracy: 68.25%\n",
      "Test set: F1 Score: 64.70%\n",
      "Epoch: 68  Train Loss: 421.735349\n",
      "Test set: Accuracy: 69.80%\n",
      "Test set: F1 Score: 65.76%\n",
      "Epoch: 69  Train Loss: 420.327065\n",
      "Test set: Accuracy: 68.30%\n",
      "Test set: F1 Score: 64.78%\n",
      "Epoch: 70  Train Loss: 419.676316\n",
      "Test set: Accuracy: 68.15%\n",
      "Test set: F1 Score: 64.67%\n",
      "Epoch: 71  Train Loss: 417.856184\n",
      "Test set: Accuracy: 68.60%\n",
      "Test set: F1 Score: 64.96%\n",
      "Epoch: 72  Train Loss: 417.406069\n",
      "Test set: Accuracy: 69.90%\n",
      "Test set: F1 Score: 65.80%\n",
      "Epoch: 73  Train Loss: 416.178341\n",
      "Test set: Accuracy: 68.45%\n",
      "Test set: F1 Score: 64.85%\n",
      "Epoch: 74  Train Loss: 415.808929\n",
      "Test set: Accuracy: 68.20%\n",
      "Test set: F1 Score: 64.67%\n",
      "Epoch: 75  Train Loss: 414.512259\n",
      "Test set: Accuracy: 68.20%\n",
      "Test set: F1 Score: 64.67%\n",
      "Epoch: 76  Train Loss: 413.781106\n",
      "Test set: Accuracy: 68.05%\n",
      "Test set: F1 Score: 64.56%\n",
      "Epoch: 77  Train Loss: 412.707252\n",
      "Test set: Accuracy: 69.90%\n",
      "Test set: F1 Score: 65.80%\n",
      "Epoch: 78  Train Loss: 412.048856\n",
      "Test set: Accuracy: 68.45%\n",
      "Test set: F1 Score: 64.81%\n",
      "Epoch: 79  Train Loss: 410.898533\n",
      "Test set: Accuracy: 69.90%\n",
      "Test set: F1 Score: 65.80%\n"
     ]
    }
   ],
   "source": [
    "cls.train(training_set, test_set, batch_size=100, num_epochs=80)"
   ]
  },
  {
   "cell_type": "markdown",
   "metadata": {},
   "source": [
    "## PU"
   ]
  },
  {
   "cell_type": "code",
   "execution_count": 137,
   "metadata": {},
   "outputs": [
    {
     "name": "stdout",
     "output_type": "stream",
     "text": [
      "/media/yu-guan/DATA/works/ens/M1/Intern/Codes/pu_biased_n\n"
     ]
    }
   ],
   "source": [
    "cd pu_biased_n/"
   ]
  },
  {
   "cell_type": "code",
   "execution_count": 138,
   "metadata": {},
   "outputs": [],
   "source": [
    "%run newsgroups/cbs.py"
   ]
  },
  {
   "cell_type": "code",
   "execution_count": 140,
   "metadata": {},
   "outputs": [
    {
     "data": {
      "text/plain": [
       "array([[ 4.03007367e-02,  9.70770569e-01, -1.78919024e+01,\n",
       "         1.28286632e-02,  6.45574085e-03],\n",
       "       [ 2.50667159e-01,  9.71536787e-01, -1.75724533e+01,\n",
       "         1.75214777e-01,  9.60193974e-02],\n",
       "       [ 2.02123627e-01,  9.71443745e-01, -1.75493282e+01,\n",
       "         1.13634864e-01,  6.02401211e-02],\n",
       "       ...,\n",
       "       [ 2.62283139e-01,  9.71864258e-01, -1.78045876e+01,\n",
       "         1.46390508e-01,  7.89759163e-02],\n",
       "       [ 3.04537705e-01,  9.72420796e-01, -1.74254894e+01,\n",
       "         1.91455920e-01,  1.05861904e-01],\n",
       "       [ 1.67413298e-01,  9.72481346e-01, -1.80181480e+01,\n",
       "         1.35276394e-01,  7.25450105e-02]])"
      ]
     },
     "execution_count": 140,
     "metadata": {},
     "output_type": "execute_result"
    }
   ],
   "source": [
    "cbs_p1"
   ]
  },
  {
   "cell_type": "code",
   "execution_count": 142,
   "metadata": {},
   "outputs": [],
   "source": [
    "a = []\n",
    "a.append(generate_cbs_features(tr1_ps, tr1_bns, alpha=8))\n",
    "a.append(generate_cbs_features(tr1_ps, tr1_bns, alpha=10))"
   ]
  },
  {
   "cell_type": "code",
   "execution_count": 150,
   "metadata": {},
   "outputs": [
    {
     "data": {
      "text/plain": [
       "(2, 2, 500, 5)"
      ]
     },
     "execution_count": 150,
     "metadata": {},
     "output_type": "execute_result"
    }
   ],
   "source": [
    "np.swapaxes(np.array(a), 0, 1).shape"
   ]
  },
  {
   "cell_type": "code",
   "execution_count": 80,
   "metadata": {},
   "outputs": [],
   "source": [
    "tr1_ps = tr1_p.toarray()[:, s1_idxs]\n",
    "tr1_bns = tr1_sn.toarray()[:, s1_idxs]\n",
    "tr1_us = tr1_u.toarray()[:, s1_idxs]\n",
    "te1_s = vectors_test.toarray()[:, s1_idxs]"
   ]
  },
  {
   "cell_type": "code",
   "execution_count": 83,
   "metadata": {},
   "outputs": [],
   "source": [
    "tr1_pvs = tr1_pv.toarray()[:, s1_idxs]\n",
    "tr1_uvs = tr1_uv.toarray()[:, s1_idxs]"
   ]
  },
  {
   "cell_type": "code",
   "execution_count": 81,
   "metadata": {},
   "outputs": [],
   "source": [
    "c1 = center(tr1_ps, tr1_bns, alpha=8, beta=4)\n",
    "cbs_p1 = sims(tr1_ps, c1)\n",
    "cbs_u1 = sims(tr1_us, c1)\n",
    "cbs_te1 = sims(te1_s, c1)"
   ]
  },
  {
   "cell_type": "code",
   "execution_count": 84,
   "metadata": {},
   "outputs": [],
   "source": [
    "cbs_pv1 = sims(tr1_pvs, c1)\n",
    "cbs_uv1 = sims(tr1_uvs, c1)"
   ]
  },
  {
   "cell_type": "code",
   "execution_count": 92,
   "metadata": {},
   "outputs": [],
   "source": [
    "p_set = torch.utils.data.TensorDataset(\n",
    "    torch.tensor(cbs_p1))\n",
    "u_set = torch.utils.data.TensorDataset(\n",
    "    torch.tensor(cbs_u1))\n",
    "test_set = torch.utils.data.TensorDataset(\n",
    "    torch.tensor(cbs_te1), torch.tensor(test_target).unsqueeze(1))"
   ]
  },
  {
   "cell_type": "code",
   "execution_count": 95,
   "metadata": {},
   "outputs": [],
   "source": [
    "from training import PUClassifier"
   ]
  },
  {
   "cell_type": "code",
   "execution_count": 96,
   "metadata": {},
   "outputs": [],
   "source": [
    "class Net(nn.Module):\n",
    "\n",
    "    def __init__(self, d_input):\n",
    "        super(Net, self).__init__()\n",
    "        self.fc1 = nn.Linear(d_input, 1)\n",
    "\n",
    "    def forward(self, x):\n",
    "        x = self.fc1(x)\n",
    "        return x"
   ]
  },
  {
   "cell_type": "code",
   "execution_count": 103,
   "metadata": {},
   "outputs": [],
   "source": [
    "model = Net(5).cuda()\n",
    "pi = 0.56\n",
    "learning_rate_cls = 1e-3\n",
    "weight_decay = 1e-4\n",
    "milestones = [200]\n",
    "lr_d = 0.1\n",
    "non_negative = True\n",
    "nn_threshold = 0\n",
    "nn_rate = 1\n",
    "validation_momentum = 0\n",
    "start_validation_epoch = 0\n",
    "\n",
    "p_batch_size = 10\n",
    "u_batch_size = 120\n",
    "p_validation = torch.tensor(cbs_pv1)\n",
    "u_validation = torch.tensor(cbs_uv1)\n",
    "cls_training_epochs = 50\n",
    "convex_epochs = 50"
   ]
  },
  {
   "cell_type": "code",
   "execution_count": 107,
   "metadata": {},
   "outputs": [],
   "source": [
    "import settings"
   ]
  },
  {
   "cell_type": "code",
   "execution_count": 108,
   "metadata": {},
   "outputs": [
    {
     "data": {
      "text/plain": [
       "<module 'settings' from '/media/yu-guan/DATA/works/ens/M1/Intern/Codes/pu_biased_n/settings.py'>"
      ]
     },
     "execution_count": 108,
     "metadata": {},
     "output_type": "execute_result"
    }
   ],
   "source": [
    "import importlib\n",
    "importlib.reload(settings)"
   ]
  },
  {
   "cell_type": "code",
   "execution_count": 109,
   "metadata": {},
   "outputs": [
    {
     "name": "stdout",
     "output_type": "stream",
     "text": [
      "Test set: Accuracy: 79.90%\n",
      "Test set: Balanced Accuracy: 79.15%\n",
      "Test set: Auc Score: 79.15%\n",
      "Test set: Precision: 80.55%\n",
      "Test set: Recall Score: 84.91%\n",
      "Test set: F1 Score: 82.67%\n",
      "Test set: False Positive Rate: 26.60%\n",
      "Validation Loss: 0.5629252195358276\n",
      "Epoch: 0  Train Loss: 0.427440\n",
      "Test set: Accuracy: 79.54%\n",
      "Test set: Balanced Accuracy: 78.48%\n",
      "Test set: Auc Score: 78.48%\n",
      "Test set: Precision: 79.10%\n",
      "Test set: Recall Score: 86.67%\n",
      "Test set: F1 Score: 82.71%\n",
      "Test set: False Positive Rate: 29.71%\n",
      "Validation Loss: 0.5658384561538696\n",
      "Epoch: 1  Train Loss: 0.435949\n",
      "Test set: Accuracy: 79.93%\n",
      "Test set: Balanced Accuracy: 79.26%\n",
      "Test set: Auc Score: 79.26%\n",
      "Test set: Precision: 80.89%\n",
      "Test set: Recall Score: 84.39%\n",
      "Test set: F1 Score: 82.60%\n",
      "Test set: False Positive Rate: 25.87%\n",
      "Validation Loss: 0.563031017780304\n",
      "Epoch: 2  Train Loss: 0.427794\n",
      "Test set: Accuracy: 79.39%\n",
      "Test set: Balanced Accuracy: 78.29%\n",
      "Test set: Auc Score: 78.29%\n",
      "Test set: Precision: 78.83%\n",
      "Test set: Recall Score: 86.84%\n",
      "Test set: F1 Score: 82.64%\n",
      "Test set: False Positive Rate: 30.26%\n",
      "Validation Loss: 0.5616123676300049\n",
      "Epoch: 3  Train Loss: 0.424909\n",
      "Test set: Accuracy: 79.13%\n",
      "Test set: Balanced Accuracy: 77.85%\n",
      "Test set: Auc Score: 77.85%\n",
      "Test set: Precision: 78.04%\n",
      "Test set: Recall Score: 87.73%\n",
      "Test set: F1 Score: 82.60%\n",
      "Test set: False Positive Rate: 32.03%\n",
      "Validation Loss: 0.5638630390167236\n",
      "Epoch: 4  Train Loss: 0.419987\n",
      "Test set: Accuracy: 79.59%\n",
      "Test set: Balanced Accuracy: 78.55%\n",
      "Test set: Auc Score: 78.55%\n",
      "Test set: Precision: 79.20%\n",
      "Test set: Recall Score: 86.62%\n",
      "Test set: F1 Score: 82.74%\n",
      "Test set: False Positive Rate: 29.53%\n",
      "Validation Loss: 0.5650889873504639\n",
      "Epoch: 5  Train Loss: 0.418447\n",
      "Test set: Accuracy: 79.71%\n",
      "Test set: Balanced Accuracy: 78.81%\n",
      "Test set: Auc Score: 78.81%\n",
      "Test set: Precision: 79.82%\n",
      "Test set: Recall Score: 85.75%\n",
      "Test set: F1 Score: 82.68%\n",
      "Test set: False Positive Rate: 28.13%\n",
      "Validation Loss: 0.5644583702087402\n",
      "Epoch: 6  Train Loss: 0.415209\n",
      "Test set: Accuracy: 79.58%\n",
      "Test set: Balanced Accuracy: 78.56%\n",
      "Test set: Auc Score: 78.56%\n",
      "Test set: Precision: 79.28%\n",
      "Test set: Recall Score: 86.44%\n",
      "Test set: F1 Score: 82.70%\n",
      "Test set: False Positive Rate: 29.32%\n",
      "Validation Loss: 0.5632011890411377\n",
      "Epoch: 7  Train Loss: 0.419633\n",
      "Test set: Accuracy: 79.26%\n",
      "Test set: Balanced Accuracy: 78.08%\n",
      "Test set: Auc Score: 78.08%\n",
      "Test set: Precision: 78.47%\n",
      "Test set: Recall Score: 87.21%\n",
      "Test set: F1 Score: 82.61%\n",
      "Test set: False Positive Rate: 31.06%\n",
      "Validation Loss: 0.561226487159729\n",
      "Epoch: 8  Train Loss: 0.422211\n",
      "Test set: Accuracy: 78.94%\n",
      "Test set: Balanced Accuracy: 77.53%\n",
      "Test set: Auc Score: 77.53%\n",
      "Test set: Precision: 77.48%\n",
      "Test set: Recall Score: 88.41%\n",
      "Test set: F1 Score: 82.59%\n",
      "Test set: False Positive Rate: 33.34%\n",
      "Validation Loss: 0.5658618211746216\n",
      "Epoch: 9  Train Loss: 0.418898\n",
      "Test set: Accuracy: 79.69%\n",
      "Test set: Balanced Accuracy: 78.80%\n",
      "Test set: Auc Score: 78.80%\n",
      "Test set: Precision: 79.84%\n",
      "Test set: Recall Score: 85.66%\n",
      "Test set: F1 Score: 82.65%\n",
      "Test set: False Positive Rate: 28.07%\n",
      "Validation Loss: 0.56700199842453\n",
      "Epoch: 10  Train Loss: 0.417512\n",
      "Test set: Accuracy: 79.89%\n",
      "Test set: Balanced Accuracy: 79.13%\n",
      "Test set: Auc Score: 79.13%\n",
      "Test set: Precision: 80.51%\n",
      "Test set: Recall Score: 84.96%\n",
      "Test set: F1 Score: 82.67%\n",
      "Test set: False Positive Rate: 26.69%\n",
      "Validation Loss: 0.5653425455093384\n",
      "Epoch: 11  Train Loss: 0.401102\n",
      "Test set: Accuracy: 79.57%\n",
      "Test set: Balanced Accuracy: 78.57%\n",
      "Test set: Auc Score: 78.57%\n",
      "Test set: Precision: 79.35%\n",
      "Test set: Recall Score: 86.27%\n",
      "Test set: F1 Score: 82.67%\n",
      "Test set: False Positive Rate: 29.13%\n",
      "Validation Loss: 0.5640639066696167\n",
      "Epoch: 12  Train Loss: 0.407500\n",
      "Test set: Accuracy: 79.37%\n",
      "Test set: Balanced Accuracy: 78.22%\n",
      "Test set: Auc Score: 78.22%\n",
      "Test set: Precision: 78.67%\n",
      "Test set: Recall Score: 87.07%\n",
      "Test set: F1 Score: 82.66%\n",
      "Test set: False Positive Rate: 30.63%\n",
      "Validation Loss: 0.5682114362716675\n",
      "Epoch: 13  Train Loss: 0.415367\n",
      "Test set: Accuracy: 79.93%\n",
      "Test set: Balanced Accuracy: 79.26%\n",
      "Test set: Auc Score: 79.26%\n",
      "Test set: Precision: 80.88%\n",
      "Test set: Recall Score: 84.41%\n",
      "Test set: F1 Score: 82.61%\n",
      "Test set: False Positive Rate: 25.90%\n",
      "Validation Loss: 0.5667041540145874\n",
      "Epoch: 14  Train Loss: 0.404556\n",
      "Test set: Accuracy: 79.71%\n",
      "Test set: Balanced Accuracy: 78.84%\n",
      "Test set: Auc Score: 78.84%\n",
      "Test set: Precision: 79.92%\n",
      "Test set: Recall Score: 85.59%\n",
      "Test set: F1 Score: 82.66%\n",
      "Test set: False Positive Rate: 27.91%\n",
      "Validation Loss: 0.5684571266174316\n",
      "Epoch: 15  Train Loss: 0.407791\n",
      "Test set: Accuracy: 79.91%\n",
      "Test set: Balanced Accuracy: 79.24%\n",
      "Test set: Auc Score: 79.24%\n",
      "Test set: Precision: 80.86%\n",
      "Test set: Recall Score: 84.41%\n",
      "Test set: F1 Score: 82.60%\n",
      "Test set: False Positive Rate: 25.93%\n",
      "Validation Loss: 0.5713393688201904\n",
      "Epoch: 16  Train Loss: 0.402085\n",
      "Test set: Accuracy: 80.18%\n",
      "Test set: Balanced Accuracy: 79.79%\n",
      "Test set: Auc Score: 79.79%\n",
      "Test set: Precision: 82.23%\n",
      "Test set: Recall Score: 82.79%\n",
      "Test set: F1 Score: 82.51%\n",
      "Test set: False Positive Rate: 23.22%\n",
      "Validation Loss: 0.5680400729179382\n",
      "Epoch: 17  Train Loss: 0.407140\n",
      "Test set: Accuracy: 79.93%\n",
      "Test set: Balanced Accuracy: 79.18%\n",
      "Test set: Auc Score: 79.18%\n",
      "Test set: Precision: 80.58%\n",
      "Test set: Recall Score: 84.93%\n",
      "Test set: F1 Score: 82.70%\n",
      "Test set: False Positive Rate: 26.57%\n",
      "Validation Loss: 0.566129207611084\n",
      "Epoch: 18  Train Loss: 0.401036\n",
      "Test set: Accuracy: 79.57%\n",
      "Test set: Balanced Accuracy: 78.58%\n",
      "Test set: Auc Score: 78.58%\n",
      "Test set: Precision: 79.39%\n",
      "Test set: Recall Score: 86.20%\n",
      "Test set: F1 Score: 82.66%\n",
      "Test set: False Positive Rate: 29.04%\n",
      "Validation Loss: 0.5656867623329163\n",
      "Epoch: 19  Train Loss: 0.405215\n",
      "Test set: Accuracy: 79.61%\n",
      "Test set: Balanced Accuracy: 78.56%\n",
      "Test set: Auc Score: 78.56%\n",
      "Test set: Precision: 79.21%\n",
      "Test set: Recall Score: 86.62%\n",
      "Test set: F1 Score: 82.75%\n",
      "Test set: False Positive Rate: 29.50%\n",
      "Validation Loss: 0.5668990612030029\n",
      "Epoch: 20  Train Loss: 0.396963\n",
      "Test set: Accuracy: 79.71%\n",
      "Test set: Balanced Accuracy: 78.79%\n",
      "Test set: Auc Score: 78.79%\n",
      "Test set: Precision: 79.73%\n",
      "Test set: Recall Score: 85.92%\n",
      "Test set: F1 Score: 82.71%\n",
      "Test set: False Positive Rate: 28.34%\n",
      "Validation Loss: 0.5697528123855591\n",
      "Epoch: 21  Train Loss: 0.405675\n",
      "Test set: Accuracy: 79.87%\n",
      "Test set: Balanced Accuracy: 79.25%\n",
      "Test set: Auc Score: 79.25%\n",
      "Test set: Precision: 81.03%\n",
      "Test set: Recall Score: 84.04%\n",
      "Test set: F1 Score: 82.51%\n",
      "Test set: False Positive Rate: 25.53%\n",
      "Validation Loss: 0.5652008652687073\n",
      "Epoch: 22  Train Loss: 0.392979\n",
      "Test set: Accuracy: 79.35%\n",
      "Test set: Balanced Accuracy: 78.24%\n",
      "Test set: Auc Score: 78.24%\n",
      "Test set: Precision: 78.77%\n",
      "Test set: Recall Score: 86.86%\n",
      "Test set: F1 Score: 82.62%\n",
      "Test set: False Positive Rate: 30.38%\n",
      "Validation Loss: 0.5657039284706116\n",
      "Epoch: 23  Train Loss: 0.388156\n",
      "Test set: Accuracy: 79.50%\n",
      "Test set: Balanced Accuracy: 78.43%\n",
      "Test set: Auc Score: 78.43%\n",
      "Test set: Precision: 79.05%\n",
      "Test set: Recall Score: 86.67%\n",
      "Test set: F1 Score: 82.69%\n",
      "Test set: False Positive Rate: 29.80%\n",
      "Validation Loss: 0.5687904357910156\n",
      "Epoch: 24  Train Loss: 0.404574\n",
      "Test set: Accuracy: 79.90%\n",
      "Test set: Balanced Accuracy: 79.15%\n",
      "Test set: Auc Score: 79.15%\n",
      "Test set: Precision: 80.55%\n",
      "Test set: Recall Score: 84.91%\n",
      "Test set: F1 Score: 82.67%\n",
      "Test set: False Positive Rate: 26.60%\n",
      "Validation Loss: 0.5634390115737915\n",
      "Epoch: 25  Train Loss: 0.381150\n",
      "Test set: Accuracy: 79.16%\n",
      "Test set: Balanced Accuracy: 77.89%\n",
      "Test set: Auc Score: 77.89%\n",
      "Test set: Precision: 78.11%\n",
      "Test set: Recall Score: 87.66%\n",
      "Test set: F1 Score: 82.61%\n",
      "Test set: False Positive Rate: 31.88%\n",
      "Validation Loss: 0.5690690875053406\n",
      "Epoch: 26  Train Loss: 0.382668\n",
      "Test set: Accuracy: 79.91%\n",
      "Test set: Balanced Accuracy: 79.18%\n",
      "Test set: Auc Score: 79.18%\n",
      "Test set: Precision: 80.61%\n",
      "Test set: Recall Score: 84.84%\n",
      "Test set: F1 Score: 82.67%\n",
      "Test set: False Positive Rate: 26.48%\n",
      "Validation Loss: 0.5678627490997314\n",
      "Epoch: 27  Train Loss: 0.387091\n",
      "Test set: Accuracy: 79.71%\n",
      "Test set: Balanced Accuracy: 78.84%\n",
      "Test set: Auc Score: 78.84%\n",
      "Test set: Precision: 79.93%\n",
      "Test set: Recall Score: 85.57%\n",
      "Test set: F1 Score: 82.65%\n",
      "Test set: False Positive Rate: 27.88%\n",
      "Validation Loss: 0.5625831484794617\n",
      "Epoch: 28  Train Loss: 0.387148\n",
      "Test set: Accuracy: 78.97%\n"
     ]
    },
    {
     "name": "stdout",
     "output_type": "stream",
     "text": [
      "Test set: Balanced Accuracy: 77.63%\n",
      "Test set: Auc Score: 77.63%\n",
      "Test set: Precision: 77.74%\n",
      "Test set: Recall Score: 87.94%\n",
      "Test set: F1 Score: 82.53%\n",
      "Test set: False Positive Rate: 32.67%\n",
      "Validation Loss: 0.5654245615005493\n",
      "Epoch: 29  Train Loss: 0.376186\n",
      "Test set: Accuracy: 79.38%\n",
      "Test set: Balanced Accuracy: 78.27%\n",
      "Test set: Auc Score: 78.27%\n",
      "Test set: Precision: 78.80%\n",
      "Test set: Recall Score: 86.86%\n",
      "Test set: F1 Score: 82.63%\n",
      "Test set: False Positive Rate: 30.32%\n",
      "Validation Loss: 0.5700991153717041\n",
      "Epoch: 30  Train Loss: 0.398848\n",
      "Test set: Accuracy: 79.87%\n",
      "Test set: Balanced Accuracy: 79.23%\n",
      "Test set: Auc Score: 79.23%\n",
      "Test set: Precision: 80.93%\n",
      "Test set: Recall Score: 84.20%\n",
      "Test set: F1 Score: 82.53%\n",
      "Test set: False Positive Rate: 25.75%\n",
      "Validation Loss: 0.5689064264297485\n",
      "Epoch: 31  Train Loss: 0.367507\n",
      "Test set: Accuracy: 79.89%\n",
      "Test set: Balanced Accuracy: 79.12%\n",
      "Test set: Auc Score: 79.12%\n",
      "Test set: Precision: 80.48%\n",
      "Test set: Recall Score: 85.00%\n",
      "Test set: F1 Score: 82.68%\n",
      "Test set: False Positive Rate: 26.75%\n",
      "Validation Loss: 0.5668877363204956\n",
      "Epoch: 32  Train Loss: 0.386006\n",
      "Test set: Accuracy: 79.58%\n",
      "Test set: Balanced Accuracy: 78.60%\n",
      "Test set: Auc Score: 78.60%\n",
      "Test set: Precision: 79.43%\n",
      "Test set: Recall Score: 86.15%\n",
      "Test set: F1 Score: 82.66%\n",
      "Test set: False Positive Rate: 28.95%\n",
      "Validation Loss: 0.5696026086807251\n",
      "Epoch: 33  Train Loss: 0.383146\n",
      "Test set: Accuracy: 79.93%\n",
      "Test set: Balanced Accuracy: 79.22%\n",
      "Test set: Auc Score: 79.22%\n",
      "Test set: Precision: 80.73%\n",
      "Test set: Recall Score: 84.67%\n",
      "Test set: F1 Score: 82.65%\n",
      "Test set: False Positive Rate: 26.24%\n",
      "Validation Loss: 0.571989893913269\n",
      "Epoch: 34  Train Loss: 0.395772\n",
      "Test set: Accuracy: 80.03%\n",
      "Test set: Balanced Accuracy: 79.51%\n",
      "Test set: Auc Score: 79.51%\n",
      "Test set: Precision: 81.57%\n",
      "Test set: Recall Score: 83.52%\n",
      "Test set: F1 Score: 82.53%\n",
      "Test set: False Positive Rate: 24.50%\n",
      "Validation Loss: 0.5640445947647095\n",
      "Epoch: 35  Train Loss: 0.367978\n",
      "Test set: Accuracy: 79.26%\n",
      "Test set: Balanced Accuracy: 78.05%\n",
      "Test set: Auc Score: 78.05%\n",
      "Test set: Precision: 78.36%\n",
      "Test set: Recall Score: 87.42%\n",
      "Test set: F1 Score: 82.64%\n",
      "Test set: False Positive Rate: 31.33%\n",
      "Validation Loss: 0.5635044574737549\n",
      "Epoch: 36  Train Loss: 0.377812\n",
      "Test set: Accuracy: 79.20%\n",
      "Test set: Balanced Accuracy: 77.95%\n",
      "Test set: Auc Score: 77.95%\n",
      "Test set: Precision: 78.22%\n",
      "Test set: Recall Score: 87.54%\n",
      "Test set: F1 Score: 82.62%\n",
      "Test set: False Positive Rate: 31.64%\n",
      "Validation Loss: 0.5695315599441528\n",
      "Epoch: 37  Train Loss: 0.374389\n",
      "Test set: Accuracy: 79.91%\n",
      "Test set: Balanced Accuracy: 79.19%\n",
      "Test set: Auc Score: 79.19%\n",
      "Test set: Precision: 80.64%\n",
      "Test set: Recall Score: 84.79%\n",
      "Test set: F1 Score: 82.66%\n",
      "Test set: False Positive Rate: 26.42%\n",
      "Validation Loss: 0.5699954032897949\n",
      "Epoch: 38  Train Loss: 0.363749\n",
      "Test set: Accuracy: 79.86%\n",
      "Test set: Balanced Accuracy: 79.17%\n",
      "Test set: Auc Score: 79.17%\n",
      "Test set: Precision: 80.76%\n",
      "Test set: Recall Score: 84.46%\n",
      "Test set: F1 Score: 82.57%\n",
      "Test set: False Positive Rate: 26.11%\n",
      "Validation Loss: 0.5685492753982544\n",
      "Epoch: 39  Train Loss: 0.382335\n",
      "Test set: Accuracy: 79.79%\n",
      "Test set: Balanced Accuracy: 78.97%\n",
      "Test set: Auc Score: 78.97%\n",
      "Test set: Precision: 80.18%\n",
      "Test set: Recall Score: 85.31%\n",
      "Test set: F1 Score: 82.67%\n",
      "Test set: False Positive Rate: 27.36%\n",
      "Validation Loss: 0.5622513890266418\n",
      "Epoch: 40  Train Loss: 0.371080\n",
      "Test set: Accuracy: 78.98%\n",
      "Test set: Balanced Accuracy: 77.64%\n",
      "Test set: Auc Score: 77.64%\n",
      "Test set: Precision: 77.74%\n",
      "Test set: Recall Score: 87.99%\n",
      "Test set: F1 Score: 82.54%\n",
      "Test set: False Positive Rate: 32.70%\n",
      "Validation Loss: 0.569828450679779\n",
      "Epoch: 41  Train Loss: 0.377947\n",
      "Test set: Accuracy: 79.90%\n",
      "Test set: Balanced Accuracy: 79.20%\n",
      "Test set: Auc Score: 79.20%\n",
      "Test set: Precision: 80.72%\n",
      "Test set: Recall Score: 84.63%\n",
      "Test set: F1 Score: 82.63%\n",
      "Test set: False Positive Rate: 26.24%\n",
      "Validation Loss: 0.5690845251083374\n",
      "Epoch: 42  Train Loss: 0.375143\n",
      "Test set: Accuracy: 79.87%\n",
      "Test set: Balanced Accuracy: 79.11%\n",
      "Test set: Auc Score: 79.11%\n",
      "Test set: Precision: 80.45%\n",
      "Test set: Recall Score: 85.03%\n",
      "Test set: F1 Score: 82.67%\n",
      "Test set: False Positive Rate: 26.82%\n",
      "Validation Loss: 0.5702340602874756\n",
      "Epoch: 43  Train Loss: 0.373093\n",
      "Test set: Accuracy: 79.94%\n",
      "Test set: Balanced Accuracy: 79.27%\n",
      "Test set: Auc Score: 79.27%\n",
      "Test set: Precision: 80.87%\n",
      "Test set: Recall Score: 84.46%\n",
      "Test set: F1 Score: 82.63%\n",
      "Test set: False Positive Rate: 25.93%\n",
      "Validation Loss: 0.5607311725616455\n",
      "Epoch: 44  Train Loss: 0.381117\n",
      "Test set: Accuracy: 78.81%\n",
      "Test set: Balanced Accuracy: 77.35%\n",
      "Test set: Auc Score: 77.35%\n",
      "Test set: Precision: 77.21%\n",
      "Test set: Recall Score: 88.65%\n",
      "Test set: F1 Score: 82.53%\n",
      "Test set: False Positive Rate: 33.95%\n",
      "Validation Loss: 0.5708526372909546\n",
      "Epoch: 45  Train Loss: 0.371742\n",
      "Test set: Accuracy: 79.87%\n",
      "Test set: Balanced Accuracy: 79.25%\n",
      "Test set: Auc Score: 79.25%\n",
      "Test set: Precision: 81.01%\n",
      "Test set: Recall Score: 84.06%\n",
      "Test set: F1 Score: 82.51%\n",
      "Test set: False Positive Rate: 25.56%\n",
      "Validation Loss: 0.5665354132652283\n",
      "Epoch: 46  Train Loss: 0.357084\n",
      "Test set: Accuracy: 79.57%\n",
      "Test set: Balanced Accuracy: 78.57%\n",
      "Test set: Auc Score: 78.57%\n",
      "Test set: Precision: 79.34%\n",
      "Test set: Recall Score: 86.30%\n",
      "Test set: F1 Score: 82.67%\n",
      "Test set: False Positive Rate: 29.16%\n",
      "Validation Loss: 0.5719069838523865\n",
      "Epoch: 47  Train Loss: 0.365813\n",
      "Test set: Accuracy: 79.98%\n",
      "Test set: Balanced Accuracy: 79.43%\n",
      "Test set: Auc Score: 79.43%\n",
      "Test set: Precision: 81.40%\n",
      "Test set: Recall Score: 83.66%\n",
      "Test set: F1 Score: 82.52%\n",
      "Test set: False Positive Rate: 24.80%\n",
      "Validation Loss: 0.570719838142395\n",
      "Epoch: 48  Train Loss: 0.375876\n",
      "Test set: Accuracy: 79.90%\n",
      "Test set: Balanced Accuracy: 79.27%\n",
      "Test set: Auc Score: 79.27%\n",
      "Test set: Precision: 81.00%\n",
      "Test set: Recall Score: 84.16%\n",
      "Test set: F1 Score: 82.55%\n",
      "Test set: False Positive Rate: 25.63%\n",
      "Validation Loss: 0.5680488348007202\n",
      "Epoch: 49  Train Loss: 0.374899\n",
      "Test set: Accuracy: 79.73%\n",
      "Test set: Balanced Accuracy: 78.86%\n",
      "Test set: Auc Score: 78.86%\n",
      "Test set: Precision: 79.97%\n",
      "Test set: Recall Score: 85.52%\n",
      "Test set: F1 Score: 82.65%\n",
      "Test set: False Positive Rate: 27.79%\n",
      "Final error:\n",
      "Test set: Accuracy: 78.81%\n",
      "Test set: Balanced Accuracy: 77.35%\n",
      "Test set: Auc Score: 77.35%\n",
      "Test set: Precision: 77.21%\n",
      "Test set: Recall Score: 88.65%\n",
      "Test set: F1 Score: 82.53%\n",
      "Test set: False Positive Rate: 33.95%\n"
     ]
    }
   ],
   "source": [
    "cls = PUClassifier(\n",
    "    model,\n",
    "    pi=pi,\n",
    "    lr=learning_rate_cls,\n",
    "    weight_decay=weight_decay,\n",
    "    milestones=milestones,\n",
    "    lr_d=lr_d,\n",
    "    nn=non_negative,\n",
    "    nn_threshold=nn_threshold,\n",
    "    nn_rate=nn_rate,\n",
    "    validation_momentum=validation_momentum,\n",
    "    start_validation_epoch=start_validation_epoch)\n",
    "cls.train(\n",
    "    p_set,\n",
    "    u_set,\n",
    "    test_set,\n",
    "    p_batch_size,\n",
    "    u_batch_size,\n",
    "    p_validation,\n",
    "    u_validation,\n",
    "    cls_training_epochs,\n",
    "    convex_epochs=convex_epochs)"
   ]
  },
  {
   "cell_type": "code",
   "execution_count": null,
   "metadata": {},
   "outputs": [],
   "source": []
  }
 ],
 "metadata": {
  "kernelspec": {
   "display_name": "Python 3",
   "language": "python",
   "name": "python3"
  },
  "language_info": {
   "codemirror_mode": {
    "name": "ipython",
    "version": 3
   },
   "file_extension": ".py",
   "mimetype": "text/x-python",
   "name": "python",
   "nbconvert_exporter": "python",
   "pygments_lexer": "ipython3",
   "version": "3.6.7"
  }
 },
 "nbformat": 4,
 "nbformat_minor": 2
}
